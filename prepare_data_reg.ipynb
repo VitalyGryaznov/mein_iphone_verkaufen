{
 "cells": [
  {
   "cell_type": "code",
   "execution_count": 1361,
   "metadata": {},
   "outputs": [],
   "source": [
    "import numpy as np \n",
    "import pandas as pd \n",
    "import seaborn as sns\n",
    "import re\n",
    "from datetime import datetime\n",
    "import math\n",
    "import locale\n",
    "from sklearn.preprocessing import LabelEncoder\n",
    "from sklearn.metrics import accuracy_score\n",
    "from sklearn import metrics\n",
    "from xgboost import XGBRegressor, DMatrix\n",
    "from xgboost import XGBClassifier\n",
    "from sklearn.metrics import mean_squared_error\n",
    "from sklearn.preprocessing import OneHotEncoder\n",
    "from sklearn.model_selection import train_test_split\n",
    "import pickle\n",
    "from sklearn.model_selection import StratifiedKFold\n",
    "from sklearn.model_selection import cross_val_score\n",
    "from matplotlib import pyplot as plt "
   ]
  },
  {
   "cell_type": "code",
   "execution_count": 1362,
   "metadata": {},
   "outputs": [],
   "source": [
    "import spacy"
   ]
  },
  {
   "cell_type": "code",
   "execution_count": 1363,
   "metadata": {},
   "outputs": [],
   "source": [
    "pd.set_option(\"display.max_columns\", 100)"
   ]
  },
  {
   "cell_type": "code",
   "execution_count": 1364,
   "metadata": {},
   "outputs": [
    {
     "data": {
      "text/plain": [
       "'de_DE'"
      ]
     },
     "execution_count": 1364,
     "metadata": {},
     "output_type": "execute_result"
    }
   ],
   "source": [
    "locale.setlocale(locale.LC_ALL, 'de_DE')"
   ]
  },
  {
   "cell_type": "code",
   "execution_count": 1365,
   "metadata": {},
   "outputs": [],
   "source": [
    "phones = pd.read_csv('iphones.csv',sep = \";\")"
   ]
  },
  {
   "cell_type": "markdown",
   "metadata": {},
   "source": [
    "Take only listings, that are not active or not sold in 30 days (marked as old)"
   ]
  },
  {
   "cell_type": "code",
   "execution_count": 1366,
   "metadata": {},
   "outputs": [],
   "source": [
    "phones = phones.loc[(phones['active'] == False) | (phones['old'] == True)]"
   ]
  },
  {
   "cell_type": "markdown",
   "metadata": {},
   "source": [
    "We don't want to analyse reselers wirth multiple items to sale in one listing"
   ]
  },
  {
   "cell_type": "markdown",
   "metadata": {},
   "source": [
    "Dropping multiitem listings"
   ]
  },
  {
   "cell_type": "code",
   "execution_count": 1367,
   "metadata": {},
   "outputs": [],
   "source": [
    "phones = phones.loc[~(phones['multiple_items_available'] == True)]"
   ]
  },
  {
   "cell_type": "markdown",
   "metadata": {},
   "source": [
    "Shape should stay the same, because they are active and not marked as old"
   ]
  },
  {
   "cell_type": "markdown",
   "metadata": {},
   "source": [
    "It is critical to have NaN in model field"
   ]
  },
  {
   "cell_type": "code",
   "execution_count": 1368,
   "metadata": {},
   "outputs": [
    {
     "data": {
      "text/plain": [
       "(2440, 26)"
      ]
     },
     "execution_count": 1368,
     "metadata": {},
     "output_type": "execute_result"
    }
   ],
   "source": [
    "phones.loc[(phones['price'].str.contains(\"£\") | phones['price'].str.contains(\"\\$\"))].shape"
   ]
  },
  {
   "cell_type": "markdown",
   "metadata": {},
   "source": [
    "We were not interested in listings made from othe countries on other languages, but still there ar some in the dataset. Let's drop them"
   ]
  },
  {
   "cell_type": "code",
   "execution_count": 1369,
   "metadata": {},
   "outputs": [],
   "source": [
    "phones = phones.loc[~(phones['price'].str.contains(\"£\") | phones['price'].str.contains(\"\\$\"))]"
   ]
  },
  {
   "cell_type": "markdown",
   "metadata": {},
   "source": [
    "Checking left links manually..."
   ]
  },
  {
   "cell_type": "code",
   "execution_count": 1370,
   "metadata": {},
   "outputs": [
    {
     "data": {
      "text/plain": [
       "(9392, 26)"
      ]
     },
     "execution_count": 1370,
     "metadata": {},
     "output_type": "execute_result"
    }
   ],
   "source": [
    "phones.shape"
   ]
  },
  {
   "cell_type": "code",
   "execution_count": 1371,
   "metadata": {},
   "outputs": [
    {
     "data": {
      "text/plain": [
       "'https://www.ebay.de/itm/Apple-IPhone-6s-spacegrau-64-GB-A1688-kein-Simlock-Branding-TOP-48/274665417668?hash=item3ff355abc4%3Ag%3A6uIAAOSwfGhfoYYc&LH_ItemCondition=3000&LH_BIN=1'"
      ]
     },
     "execution_count": 1371,
     "metadata": {},
     "output_type": "execute_result"
    }
   ],
   "source": [
    "phones.loc[phones['model'].isnull()].iloc[10].loc['link']"
   ]
  },
  {
   "cell_type": "markdown",
   "metadata": {},
   "source": [
    "I found out, that there are some listings without model. It's possible to extract data from title. Just drop them now"
   ]
  },
  {
   "cell_type": "code",
   "execution_count": 1372,
   "metadata": {},
   "outputs": [],
   "source": [
    "phones = phones.loc[~phones['model'].isnull()]"
   ]
  },
  {
   "cell_type": "code",
   "execution_count": 1373,
   "metadata": {},
   "outputs": [
    {
     "data": {
      "text/plain": [
       "(9110, 26)"
      ]
     },
     "execution_count": 1373,
     "metadata": {},
     "output_type": "execute_result"
    }
   ],
   "source": [
    "phones.shape"
   ]
  },
  {
   "cell_type": "markdown",
   "metadata": {},
   "source": [
    "Checking for duplicates"
   ]
  },
  {
   "cell_type": "code",
   "execution_count": 1374,
   "metadata": {},
   "outputs": [],
   "source": [
    "duplicated = phones.loc[phones.duplicated(keep=False)]"
   ]
  },
  {
   "cell_type": "code",
   "execution_count": 1375,
   "metadata": {},
   "outputs": [
    {
     "data": {
      "text/html": [
       "<div>\n",
       "<style scoped>\n",
       "    .dataframe tbody tr th:only-of-type {\n",
       "        vertical-align: middle;\n",
       "    }\n",
       "\n",
       "    .dataframe tbody tr th {\n",
       "        vertical-align: top;\n",
       "    }\n",
       "\n",
       "    .dataframe thead th {\n",
       "        text-align: right;\n",
       "    }\n",
       "</style>\n",
       "<table border=\"1\" class=\"dataframe\">\n",
       "  <thead>\n",
       "    <tr style=\"text-align: right;\">\n",
       "      <th></th>\n",
       "      <th>_id</th>\n",
       "      <th>active</th>\n",
       "      <th>closure_date</th>\n",
       "      <th>closure_reason</th>\n",
       "      <th>color</th>\n",
       "      <th>condition</th>\n",
       "      <th>creation_date</th>\n",
       "      <th>fianl_shipping_cost</th>\n",
       "      <th>final_price</th>\n",
       "      <th>last_update</th>\n",
       "      <th>link</th>\n",
       "      <th>memory</th>\n",
       "      <th>mobile_operator</th>\n",
       "      <th>model</th>\n",
       "      <th>multiple_items_available</th>\n",
       "      <th>number_of_reviews</th>\n",
       "      <th>old</th>\n",
       "      <th>page_not_found</th>\n",
       "      <th>photos</th>\n",
       "      <th>price</th>\n",
       "      <th>return_policy</th>\n",
       "      <th>search_term</th>\n",
       "      <th>selers_feedback</th>\n",
       "      <th>shipping_cost</th>\n",
       "      <th>text_description</th>\n",
       "      <th>title</th>\n",
       "    </tr>\n",
       "  </thead>\n",
       "  <tbody>\n",
       "  </tbody>\n",
       "</table>\n",
       "</div>"
      ],
      "text/plain": [
       "Empty DataFrame\n",
       "Columns: [_id, active, closure_date, closure_reason, color, condition, creation_date, fianl_shipping_cost, final_price, last_update, link, memory, mobile_operator, model, multiple_items_available, number_of_reviews, old, page_not_found, photos, price, return_policy, search_term, selers_feedback, shipping_cost, text_description, title]\n",
       "Index: []"
      ]
     },
     "execution_count": 1375,
     "metadata": {},
     "output_type": "execute_result"
    }
   ],
   "source": [
    "duplicated"
   ]
  },
  {
   "cell_type": "markdown",
   "metadata": {},
   "source": [
    "Drop nan"
   ]
  },
  {
   "cell_type": "code",
   "execution_count": 1376,
   "metadata": {},
   "outputs": [],
   "source": [
    "# doesn't change anything phones = phones.dropna(subset = [\"memory\"])"
   ]
  },
  {
   "cell_type": "code",
   "execution_count": 1377,
   "metadata": {},
   "outputs": [],
   "source": [
    "phones = phones.loc[~phones['color'].isnull()]"
   ]
  },
  {
   "cell_type": "markdown",
   "metadata": {},
   "source": [
    "## Analyse closure_reason"
   ]
  },
  {
   "cell_type": "code",
   "execution_count": 1378,
   "metadata": {},
   "outputs": [],
   "source": [
    "reasons = phones['closure_reason'].unique()"
   ]
  },
  {
   "cell_type": "markdown",
   "metadata": {},
   "source": [
    "dpor rows with closure statuses that are out of scope"
   ]
  },
  {
   "cell_type": "code",
   "execution_count": 1379,
   "metadata": {},
   "outputs": [],
   "source": [
    "closure_reasons_out_of_scope = ['Dieses Angebot wurde vom Verkäufer beendet, da der Artikel beschädigt wurde oder verloren ging.', \\\n",
    "                               'Dieses Angebot wurde vom Verkäufer beendet, da der Artikel nicht mehr verfügbar ist.', \\\n",
    "                               'Dieses Angebot wurde vom Verkäufer beendet, da es einen Fehler enthielt.',\\\n",
    "                               'Dieses Angebot wurde beendet. Der Verkäufer hat diesen oder einen gleichartigen Artikel wiedereingestellt.',\\\n",
    "                               'Dieses Angebot wurde vom Verkäufer beendet, da der Artikel verkauft wurde.',\\\n",
    "                               'Das Sofort-Kaufen-Angebot wurde beendet. Der Verkäufer hat diesen oder einen gleichartigen Artikel wiedereingestellt.']"
   ]
  },
  {
   "cell_type": "code",
   "execution_count": 1380,
   "metadata": {},
   "outputs": [],
   "source": [
    "phones = phones.loc[~phones['closure_reason'].isin(closure_reasons_out_of_scope)]"
   ]
  },
  {
   "cell_type": "markdown",
   "metadata": {},
   "source": [
    "## PRICE"
   ]
  },
  {
   "cell_type": "markdown",
   "metadata": {},
   "source": [
    "There is one crazy high price and some prices wirh \"/Stk.\" at the end"
   ]
  },
  {
   "cell_type": "code",
   "execution_count": 1381,
   "metadata": {},
   "outputs": [],
   "source": [
    "phones['price'] = phones['price'].map(lambda price: float(price.replace('.','').replace('/Stk','').replace(\"EUR\", \"\").replace(\",\",\".\")))"
   ]
  },
  {
   "cell_type": "code",
   "execution_count": 1382,
   "metadata": {},
   "outputs": [],
   "source": [
    "phones['final_price'] = phones['final_price'].map(lambda price: price if (type(price) == float) else float(price.replace('.','').replace('/Stk','').replace(\"EUR\", \"\").replace(\",\",\".\")))\n"
   ]
  },
  {
   "cell_type": "markdown",
   "metadata": {},
   "source": [
    "for items which were not soled and marked as 'old' final price is null. need to fox it"
   ]
  },
  {
   "cell_type": "code",
   "execution_count": 1383,
   "metadata": {},
   "outputs": [],
   "source": [
    "def set_final_price_for_old_listings(row):\n",
    "    return row[\"price\"] if (row[\"old\"] == True) else row[\"final_price\"]"
   ]
  },
  {
   "cell_type": "code",
   "execution_count": 1384,
   "metadata": {},
   "outputs": [],
   "source": [
    "phones[\"final_price\"] = phones.apply(set_final_price_for_old_listings, axis=1)"
   ]
  },
  {
   "cell_type": "code",
   "execution_count": 1385,
   "metadata": {},
   "outputs": [],
   "source": [
    "phones['title'] = phones['title'].str.lower()"
   ]
  },
  {
   "cell_type": "code",
   "execution_count": 1386,
   "metadata": {},
   "outputs": [],
   "source": [
    "phones = phones.loc[~phones['title'].str.contains('fortnite')]"
   ]
  },
  {
   "cell_type": "markdown",
   "metadata": {},
   "source": [
    "remove iphones that costs unrealistic expensive or cheap"
   ]
  },
  {
   "cell_type": "code",
   "execution_count": 1387,
   "metadata": {},
   "outputs": [],
   "source": [
    "phones = phones[(phones['final_price'] < 1300) & (phones['final_price'] > 10) ]"
   ]
  },
  {
   "cell_type": "markdown",
   "metadata": {},
   "source": [
    "## Check model"
   ]
  },
  {
   "cell_type": "code",
   "execution_count": 1388,
   "metadata": {},
   "outputs": [],
   "source": [
    "phones['model'] = phones['model'].str.lower()"
   ]
  },
  {
   "cell_type": "markdown",
   "metadata": {},
   "source": [
    "remove \"apple\" at the beginning "
   ]
  },
  {
   "cell_type": "code",
   "execution_count": 1389,
   "metadata": {},
   "outputs": [],
   "source": [
    "phones['model'] = phones['model'].map(lambda model: model.replace('apple ',''))"
   ]
  },
  {
   "cell_type": "markdown",
   "metadata": {},
   "source": [
    "Number of Gb in the title could be valuable feature. I want to keep it, but separate from the model"
   ]
  },
  {
   "cell_type": "code",
   "execution_count": 1390,
   "metadata": {},
   "outputs": [],
   "source": [
    "phones[\"title_contains_memory_info\"] = phones['model'].map(lambda model: bool(re.search(\"\\dgb\", model)))"
   ]
  },
  {
   "cell_type": "code",
   "execution_count": 1391,
   "metadata": {},
   "outputs": [],
   "source": [
    "phones['model'] = phones['model'].map(lambda model: (re.sub(r\"\\d+gb\", \"\", model)).strip())"
   ]
  },
  {
   "cell_type": "code",
   "execution_count": 1392,
   "metadata": {},
   "outputs": [],
   "source": [
    "iphone_se = [\"se\", \"iphone se\", \"iphone se (1. generation)\"]"
   ]
  },
  {
   "cell_type": "code",
   "execution_count": 1393,
   "metadata": {},
   "outputs": [],
   "source": [
    "iphone_se_2 = [\"iphone se (2. generation)\", \"iphone se 2020\", \"iphone se 2\"]"
   ]
  },
  {
   "cell_type": "code",
   "execution_count": 1394,
   "metadata": {},
   "outputs": [],
   "source": [
    "iphone_7 = [\"iphone 7\", \"7\"]"
   ]
  },
  {
   "cell_type": "code",
   "execution_count": 1395,
   "metadata": {},
   "outputs": [],
   "source": [
    "iphone_7_plus = [\"iphone 7 plus\"]"
   ]
  },
  {
   "cell_type": "code",
   "execution_count": 1396,
   "metadata": {},
   "outputs": [],
   "source": [
    "iphone_6 = [\"iphone 6\"]"
   ]
  },
  {
   "cell_type": "code",
   "execution_count": 1397,
   "metadata": {},
   "outputs": [],
   "source": [
    "iphone_6s = [\"iphone 6s\", \"6s\"]"
   ]
  },
  {
   "cell_type": "code",
   "execution_count": 1398,
   "metadata": {},
   "outputs": [],
   "source": [
    "iphone_6s_plus = [\"iphone 6s plus\"]"
   ]
  },
  {
   "cell_type": "code",
   "execution_count": 1399,
   "metadata": {},
   "outputs": [],
   "source": [
    "iphone_6_plus = [\"iphone 6 plus\"]"
   ]
  },
  {
   "cell_type": "code",
   "execution_count": 1400,
   "metadata": {},
   "outputs": [],
   "source": [
    "iphone_8_plus = [\"iphone 8 plus\"]"
   ]
  },
  {
   "cell_type": "code",
   "execution_count": 1401,
   "metadata": {},
   "outputs": [],
   "source": [
    "iphone_8 = [\"iphone 8\"]"
   ]
  },
  {
   "cell_type": "code",
   "execution_count": 1402,
   "metadata": {},
   "outputs": [],
   "source": [
    "iphone_11 = [\"iphone 11\"]"
   ]
  },
  {
   "cell_type": "code",
   "execution_count": 1403,
   "metadata": {},
   "outputs": [],
   "source": [
    "iphone_11_plus_max = [\"iphone 11 pro max\"]"
   ]
  },
  {
   "cell_type": "code",
   "execution_count": 1404,
   "metadata": {},
   "outputs": [],
   "source": [
    "iphone_11_pro =[\"iphone 11 pro\"]"
   ]
  },
  {
   "cell_type": "code",
   "execution_count": 1405,
   "metadata": {},
   "outputs": [],
   "source": [
    "iphone_xr = [\"iphone xr\"]"
   ]
  },
  {
   "cell_type": "code",
   "execution_count": 1406,
   "metadata": {},
   "outputs": [],
   "source": [
    "iphone_x = [\"iphone x\"]"
   ]
  },
  {
   "cell_type": "code",
   "execution_count": 1407,
   "metadata": {},
   "outputs": [],
   "source": [
    "iphone_5 = [\"iphone 5\"]"
   ]
  },
  {
   "cell_type": "code",
   "execution_count": 1408,
   "metadata": {},
   "outputs": [],
   "source": [
    "iphone_5c = [\"iphone 5c\"]"
   ]
  },
  {
   "cell_type": "code",
   "execution_count": 1409,
   "metadata": {},
   "outputs": [],
   "source": [
    "iphone_5s = [\"iphone 5s\", \"5s\"]"
   ]
  },
  {
   "cell_type": "code",
   "execution_count": 1410,
   "metadata": {},
   "outputs": [],
   "source": [
    "iphone_xs = [\"iphone xs\", \"xs\"]"
   ]
  },
  {
   "cell_type": "code",
   "execution_count": 1411,
   "metadata": {},
   "outputs": [],
   "source": [
    "iphone_xs_max = [\"iphone xs max\", \"xs max\"]"
   ]
  },
  {
   "cell_type": "code",
   "execution_count": null,
   "metadata": {},
   "outputs": [],
   "source": [
    "iphone_12 = [\"iphone 12\"]"
   ]
  },
  {
   "cell_type": "code",
   "execution_count": null,
   "metadata": {},
   "outputs": [],
   "source": [
    "iphone_12_pro_max = [\"iphone 12 pro max\"]"
   ]
  },
  {
   "cell_type": "code",
   "execution_count": null,
   "metadata": {},
   "outputs": [],
   "source": [
    "iphone_12_pro = [\"iphone 12 pro\"]"
   ]
  },
  {
   "cell_type": "code",
   "execution_count": null,
   "metadata": {},
   "outputs": [],
   "source": [
    "iphone_12_mini = [\"iphone 12 mini\"]"
   ]
  },
  {
   "cell_type": "code",
   "execution_count": null,
   "metadata": {},
   "outputs": [],
   "source": [
    "iphone_13 = [\"iphone 13\"]"
   ]
  },
  {
   "cell_type": "code",
   "execution_count": null,
   "metadata": {},
   "outputs": [],
   "source": [
    "iphone_13_pro_max = [\"iphone 13 pro max\"]"
   ]
  },
  {
   "cell_type": "code",
   "execution_count": null,
   "metadata": {},
   "outputs": [],
   "source": [
    "iphone_13_pro = [\"iphone 13 pro\"]"
   ]
  },
  {
   "cell_type": "code",
   "execution_count": null,
   "metadata": {},
   "outputs": [],
   "source": [
    "iphone_13_mini = [\"iphone 12 mini\"]"
   ]
  },
  {
   "cell_type": "code",
   "execution_count": 1412,
   "metadata": {},
   "outputs": [],
   "source": [
    "all_models = [iphone_se, iphone_se_2, iphone_7, iphone_7_plus, iphone_6, iphone_6s, iphone_6s_plus, iphone_6_plus, \\\n",
    "              iphone_8_plus, iphone_8, iphone_11_plus_max, iphone_11_pro, iphone_xr, iphone_x, iphone_5, iphone_5c, \\\n",
    "             iphone_5s, iphone_xs, iphone_xs_max, iphone_11, iphone_12, iphone_12_pro_max, iphone_12_pro, iphone_12_mini, \\\n",
    "             iphone_13, iphone_13_pro_max, iphone_13_pro, iphone_13_mini]"
   ]
  },
  {
   "cell_type": "code",
   "execution_count": 1413,
   "metadata": {},
   "outputs": [],
   "source": [
    "all_models_list = []\n",
    "for models in all_models:\n",
    "  all_models_list = all_models_list + models "
   ]
  },
  {
   "cell_type": "markdown",
   "metadata": {},
   "source": [
    "I want to exclude models that are out of scope"
   ]
  },
  {
   "cell_type": "code",
   "execution_count": 1414,
   "metadata": {},
   "outputs": [],
   "source": [
    "exclude_models = [model for model in phones['model'].unique() if model not in all_models_list]"
   ]
  },
  {
   "cell_type": "code",
   "execution_count": 1415,
   "metadata": {},
   "outputs": [],
   "source": [
    "phones = phones.loc[phones[\"model\"].isin(all_models_list)]"
   ]
  },
  {
   "cell_type": "code",
   "execution_count": 1416,
   "metadata": {},
   "outputs": [],
   "source": [
    "replace_model = {\"6s\": \"iphone 6s\", \"7\": \"iphone 7\", \"5s\": \"iphone 5s\", \"se\": \"iphone se\", \n",
    "                 \"xs\": \"iphone xs\", \"xs max\": \"iphone xs max\", \"iphone se 2020\": \"iphone se 2\", \n",
    "                 \"iphone se (2. generation)\": \"iphone se 2\", \"iphone se (1. generation)\": \"iphone se\"}"
   ]
  },
  {
   "cell_type": "code",
   "execution_count": 1417,
   "metadata": {},
   "outputs": [],
   "source": [
    "phones = phones.replace({\"model\": replace_model})"
   ]
  },
  {
   "cell_type": "code",
   "execution_count": 1418,
   "metadata": {},
   "outputs": [],
   "source": [
    "phones['model'] = phones['model'].map(lambda model: model.replace(\" \",\"_\").strip())"
   ]
  },
  {
   "cell_type": "markdown",
   "metadata": {},
   "source": [
    "## Analyse closure_date and creation_date"
   ]
  },
  {
   "cell_type": "code",
   "execution_count": 1419,
   "metadata": {},
   "outputs": [],
   "source": [
    "phones['closure_date'] = phones['closure_date'].str.extract(r'(^[0-3]\\d\\.\\s[a-zA-Z]{3}\\.\\s20\\d{2})')"
   ]
  },
  {
   "cell_type": "code",
   "execution_count": 1420,
   "metadata": {},
   "outputs": [],
   "source": [
    "phones['last_update'] = phones['last_update'].str.extract(r'(^[0-3]\\d\\.\\s[a-zA-Z]{3}\\.\\s20\\d{2})')"
   ]
  },
  {
   "cell_type": "code",
   "execution_count": 1421,
   "metadata": {},
   "outputs": [],
   "source": [
    "phones['creation_date'] = phones['creation_date'].map(lambda model: (re.sub(r\"\\d{2}\\:\\d{2}\\s\", \"\", model)))"
   ]
  },
  {
   "cell_type": "code",
   "execution_count": 1422,
   "metadata": {},
   "outputs": [],
   "source": [
    "# For some rasont there is Mrz. instead of Mär on ebay"
   ]
  },
  {
   "cell_type": "code",
   "execution_count": 1423,
   "metadata": {},
   "outputs": [],
   "source": [
    "phones['creation_date'] = phones['creation_date'].str.replace('Mrz','Mär')"
   ]
  },
  {
   "cell_type": "code",
   "execution_count": 1424,
   "metadata": {},
   "outputs": [],
   "source": [
    "phones['closure_date'] = phones['closure_date'].str.replace('Mrz','Mär')"
   ]
  },
  {
   "cell_type": "code",
   "execution_count": 1425,
   "metadata": {},
   "outputs": [],
   "source": [
    "phones['creation_date'] =  pd.to_datetime(phones['creation_date'], format='%d. %b. %Y')"
   ]
  },
  {
   "cell_type": "code",
   "execution_count": 1426,
   "metadata": {},
   "outputs": [],
   "source": [
    "phones['closure_date'] =  pd.to_datetime(phones['closure_date'], format='%d. %b. %Y')"
   ]
  },
  {
   "cell_type": "code",
   "execution_count": 1427,
   "metadata": {},
   "outputs": [],
   "source": [
    "phones['last_update'] =  pd.to_datetime(phones['last_update'], format='%d. %b. %Y')"
   ]
  },
  {
   "cell_type": "markdown",
   "metadata": {},
   "source": [
    "Most likely all they 'out of stock'. Later they become closed by the customer. We may treat them as closed. If we don't have date (it's not displayed, when item is out of stock), we can use last update datae instead. We check data every day. It should be accurate enough\n"
   ]
  },
  {
   "cell_type": "code",
   "execution_count": 1428,
   "metadata": {},
   "outputs": [],
   "source": [
    "def set_closure_date(row):\n",
    "    return row[\"last_update\"] if (str(row[\"closure_date\"]) == \"NaT\") else row[\"closure_date\"]\n"
   ]
  },
  {
   "cell_type": "code",
   "execution_count": 1429,
   "metadata": {},
   "outputs": [],
   "source": [
    "phones[\"closure_date\"] = phones.apply(set_closure_date, axis=1)"
   ]
  },
  {
   "cell_type": "markdown",
   "metadata": {},
   "source": [
    "Those which don't have last update date just need to be removed (misssing data)"
   ]
  },
  {
   "cell_type": "code",
   "execution_count": 1430,
   "metadata": {},
   "outputs": [],
   "source": [
    "phones = phones.loc[~(phones[\"closure_date\"].astype(str) == \"NaT\")]"
   ]
  },
  {
   "cell_type": "code",
   "execution_count": 1431,
   "metadata": {},
   "outputs": [],
   "source": [
    "phones['listing_was_active_before_closure'] = phones['closure_date'] - phones['creation_date']"
   ]
  },
  {
   "cell_type": "code",
   "execution_count": 1432,
   "metadata": {},
   "outputs": [],
   "source": [
    "phones['listing_was_active_before_closure'] = phones['listing_was_active_before_closure'].map(lambda date: date.days)"
   ]
  },
  {
   "cell_type": "code",
   "execution_count": 1433,
   "metadata": {},
   "outputs": [],
   "source": [
    "median = phones['listing_was_active_before_closure'].median()"
   ]
  },
  {
   "cell_type": "code",
   "execution_count": 1434,
   "metadata": {},
   "outputs": [
    {
     "data": {
      "text/plain": [
       "3.0"
      ]
     },
     "execution_count": 1434,
     "metadata": {},
     "output_type": "execute_result"
    }
   ],
   "source": [
    "median"
   ]
  },
  {
   "cell_type": "markdown",
   "metadata": {},
   "source": [
    "## fianl_shipping_cost field"
   ]
  },
  {
   "cell_type": "code",
   "execution_count": 1435,
   "metadata": {},
   "outputs": [],
   "source": [
    "phones.fianl_shipping_cost = phones.fianl_shipping_cost.fillna(phones.shipping_cost)"
   ]
  },
  {
   "cell_type": "markdown",
   "metadata": {},
   "source": [
    "what we have except of price in euro:"
   ]
  },
  {
   "cell_type": "markdown",
   "metadata": {},
   "source": [
    "Checked manually. 'Abholung möglich' looks like an option for ebayplus. Could be replaced with 'KOSTENLOS'"
   ]
  },
  {
   "cell_type": "markdown",
   "metadata": {},
   "source": [
    "'Kostenlose Abholung' is extreamly rare case. Drop it"
   ]
  },
  {
   "cell_type": "code",
   "execution_count": 1436,
   "metadata": {},
   "outputs": [],
   "source": [
    "phones = phones.loc[~((phones['fianl_shipping_cost'].isin(['Kostenlose Abholung', 'Standardversand'])) | (phones['shipping_cost'].isin(['Kostenlose Abholung', 'Standardversand'])))]"
   ]
  },
  {
   "cell_type": "code",
   "execution_count": 1437,
   "metadata": {},
   "outputs": [],
   "source": [
    "phones['fianl_shipping_cost'] = phones['fianl_shipping_cost'].astype(str)\n",
    "phones['shipping_cost'] = phones['shipping_cost'].astype(str)"
   ]
  },
  {
   "cell_type": "code",
   "execution_count": 1438,
   "metadata": {},
   "outputs": [],
   "source": [
    "phones['fianl_shipping_cost'] = phones['fianl_shipping_cost'].map(lambda price: price if (price == \"nan\") else 0 if price in ['KOSTENLOS', 'Abholung möglich'] else \\\n",
    "                                                                  float(price.replace(\"EUR\", \"\").replace(\",\",\".\")))\n"
   ]
  },
  {
   "cell_type": "code",
   "execution_count": 1439,
   "metadata": {},
   "outputs": [],
   "source": [
    "phones['shipping_cost'] = phones['shipping_cost'].map(lambda price: price if (price == \"nan\") else 0 if price in ['KOSTENLOS', 'Abholung möglich'] else \\\n",
    "                                                                  float(price.replace(\"EUR\", \"\").replace(\",\",\".\")))\n"
   ]
  },
  {
   "cell_type": "code",
   "execution_count": 1440,
   "metadata": {},
   "outputs": [],
   "source": [
    "phones['fianl_shipping_cost'] = phones['fianl_shipping_cost'].astype(float)"
   ]
  },
  {
   "cell_type": "code",
   "execution_count": 1441,
   "metadata": {},
   "outputs": [],
   "source": [
    "phones['shipping_cost'] = phones['shipping_cost'].astype(float)"
   ]
  },
  {
   "cell_type": "markdown",
   "metadata": {},
   "source": [
    "## Memory column"
   ]
  },
  {
   "cell_type": "markdown",
   "metadata": {},
   "source": [
    "remove whitespaces"
   ]
  },
  {
   "cell_type": "code",
   "execution_count": 1442,
   "metadata": {},
   "outputs": [],
   "source": [
    "phones['memory'] = phones['memory'].astype(str)\n"
   ]
  },
  {
   "cell_type": "code",
   "execution_count": 1443,
   "metadata": {},
   "outputs": [],
   "source": [
    "phones['memory'] = phones['memory'].map(lambda memory: memory.replace(\" \",\"\").strip())"
   ]
  },
  {
   "cell_type": "code",
   "execution_count": 1444,
   "metadata": {},
   "outputs": [],
   "source": [
    "low_frequency_memory_values = [memory for memory in phones['memory'].unique() if phones.loc[phones['memory'] == memory].shape[0] < 20]"
   ]
  },
  {
   "cell_type": "code",
   "execution_count": 1445,
   "metadata": {},
   "outputs": [],
   "source": [
    "phones = phones.loc[~phones[\"memory\"].isin(low_frequency_memory_values)]"
   ]
  },
  {
   "cell_type": "markdown",
   "metadata": {},
   "source": [
    "remove nan"
   ]
  },
  {
   "cell_type": "markdown",
   "metadata": {},
   "source": [
    "## mobile_operator field"
   ]
  },
  {
   "cell_type": "code",
   "execution_count": 1446,
   "metadata": {},
   "outputs": [],
   "source": [
    "phones['mobile_operator'] = phones['mobile_operator'].str.lower()"
   ]
  },
  {
   "cell_type": "code",
   "execution_count": 1447,
   "metadata": {},
   "outputs": [],
   "source": [
    "phones['mobile_operator'] = phones['mobile_operator'].astype(str)"
   ]
  },
  {
   "cell_type": "code",
   "execution_count": 1448,
   "metadata": {},
   "outputs": [],
   "source": [
    "phones['without_mobile_operator'] = phones['mobile_operator'].map(lambda operator : True if (operator == 'nan') else \\\n",
    "                                    True if any(free in operator for free in [\"ohne simlock\", \"alle netze\", \"frei\", \"alle\", \"unlocked\"]) \\\n",
    "                                    else False)\n"
   ]
  },
  {
   "cell_type": "markdown",
   "metadata": {},
   "source": [
    "## photos field"
   ]
  },
  {
   "cell_type": "markdown",
   "metadata": {},
   "source": [
    "Analysing inages is out of scope now, but we can get nuber of images as an addtionl field"
   ]
  },
  {
   "cell_type": "code",
   "execution_count": 1449,
   "metadata": {},
   "outputs": [],
   "source": [
    "phones[\"number_of_photos\"] = phones[\"photos\"].map(lambda photos: len(photos.strip('][').split(', ')))"
   ]
  },
  {
   "cell_type": "markdown",
   "metadata": {},
   "source": [
    "## return_policy field"
   ]
  },
  {
   "cell_type": "code",
   "execution_count": 1450,
   "metadata": {},
   "outputs": [],
   "source": [
    "phones['return_policy'] = phones['return_policy'].astype(str)"
   ]
  },
  {
   "cell_type": "code",
   "execution_count": 1451,
   "metadata": {},
   "outputs": [],
   "source": [
    "low_frequency_return_values = [return_policy for return_policy in phones['return_policy'].unique() if phones.loc[phones['return_policy'] == return_policy].shape[0] < 5]"
   ]
  },
  {
   "cell_type": "code",
   "execution_count": 1452,
   "metadata": {},
   "outputs": [],
   "source": [
    "phones = phones.loc[~phones[\"return_policy\"].isin(low_frequency_return_values)]"
   ]
  },
  {
   "cell_type": "markdown",
   "metadata": {},
   "source": [
    "## selers_feedback field"
   ]
  },
  {
   "cell_type": "code",
   "execution_count": 1453,
   "metadata": {},
   "outputs": [],
   "source": [
    "phones[\"no_feedback_yet\"] = phones[\"selers_feedback\"].isnull()"
   ]
  },
  {
   "cell_type": "code",
   "execution_count": 1454,
   "metadata": {},
   "outputs": [],
   "source": [
    "phones['selers_feedback'] = phones['selers_feedback'].str.extract(r'(^\\d.+\\%)')"
   ]
  },
  {
   "cell_type": "code",
   "execution_count": 1455,
   "metadata": {},
   "outputs": [],
   "source": [
    "phones['selers_feedback'] = phones['selers_feedback'].map(lambda feedback: float(str(feedback).replace(\"%\",\"\").replace(\",\",\".\")))"
   ]
  },
  {
   "cell_type": "code",
   "execution_count": 1456,
   "metadata": {},
   "outputs": [],
   "source": [
    "phones = phones.fillna({\"selers_feedback\" : 100.0})"
   ]
  },
  {
   "cell_type": "markdown",
   "metadata": {},
   "source": [
    "## Color field"
   ]
  },
  {
   "cell_type": "code",
   "execution_count": 1457,
   "metadata": {},
   "outputs": [],
   "source": [
    "phones['color'] = phones['color'].astype(str)"
   ]
  },
  {
   "cell_type": "code",
   "execution_count": 1458,
   "metadata": {},
   "outputs": [],
   "source": [
    "phones['color'] = phones['color'].str.lower()"
   ]
  },
  {
   "cell_type": "code",
   "execution_count": 1459,
   "metadata": {},
   "outputs": [],
   "source": [
    "color_dict = {\"grey\": \"grau\",\n",
    "    \"white\": \"weiß\",\n",
    "    \"red\": \"rot\",\n",
    "    \"weiss\": \"weiß\",\n",
    "    \"black\": \"schwarz\",\n",
    "    \"und\": \"\",\n",
    "    \"/\": \"\",\n",
    "    \"rose\": \"rosa\",\n",
    "    \"silver\": \"silber\",\n",
    "    \"rosé\": \"rosa\",\n",
    "    \"rosè\": \"rosa\",\n",
    "    \"pink\": \"rosa\",\n",
    "    \"gray\": \"grau\",\n",
    "    \" \": \"\"\n",
    "}"
   ]
  },
  {
   "cell_type": "code",
   "execution_count": 1460,
   "metadata": {},
   "outputs": [],
   "source": [
    "def update_color(color):\n",
    "    for key in color_dict.keys():\n",
    "        color = color.replace(key, color_dict[key])\n",
    "    return color"
   ]
  },
  {
   "cell_type": "code",
   "execution_count": 1461,
   "metadata": {},
   "outputs": [],
   "source": [
    "phones['color'] = phones['color'].map(lambda color: update_color(color))"
   ]
  },
  {
   "cell_type": "code",
   "execution_count": 1462,
   "metadata": {},
   "outputs": [],
   "source": [
    "low_frequency_color_values = [return_policy for return_policy in phones['color'].unique() if phones.loc[phones['color'] == return_policy].shape[0] < 10]"
   ]
  },
  {
   "cell_type": "code",
   "execution_count": 1463,
   "metadata": {},
   "outputs": [],
   "source": [
    "def update_rare_colors(color):\n",
    "    if (color in low_frequency_color_values):\n",
    "        color = \"other\"\n",
    "    return color"
   ]
  },
  {
   "cell_type": "code",
   "execution_count": 1464,
   "metadata": {},
   "outputs": [],
   "source": [
    "phones['color'] = phones['color'].map(lambda color: update_rare_colors(color))"
   ]
  },
  {
   "cell_type": "markdown",
   "metadata": {},
   "source": [
    "## Condition"
   ]
  },
  {
   "cell_type": "code",
   "execution_count": 1465,
   "metadata": {},
   "outputs": [],
   "source": [
    "positive_labels = ['sehr gut', 'top zustand', 'neuwertigen', 'keine kratzer', 'wie neu', 'micro-kratzer']"
   ]
  },
  {
   "cell_type": "code",
   "execution_count": 1466,
   "metadata": {},
   "outputs": [],
   "source": [
    "negative_labels = ['akzeptabel', 'starke gebrauchsspuren', 'schade']"
   ]
  },
  {
   "cell_type": "code",
   "execution_count": 1467,
   "metadata": {},
   "outputs": [],
   "source": [
    "phones['condition']= phones['condition'].str.lower()"
   ]
  },
  {
   "cell_type": "code",
   "execution_count": 1468,
   "metadata": {},
   "outputs": [],
   "source": [
    "phones['title']= phones['title'].str.lower()"
   ]
  },
  {
   "cell_type": "code",
   "execution_count": 1469,
   "metadata": {},
   "outputs": [],
   "source": [
    "phones['very_good_condition'] = phones.condition.str.contains('|'.join(positive_labels)) | phones.title.str.contains('|'.join(positive_labels))"
   ]
  },
  {
   "cell_type": "code",
   "execution_count": 1470,
   "metadata": {},
   "outputs": [],
   "source": [
    "phones['very_bad_condition'] = phones.condition.str.contains('|'.join(negative_labels)) | phones.title.str.contains('|'.join(negative_labels))"
   ]
  },
  {
   "cell_type": "code",
   "execution_count": 1471,
   "metadata": {},
   "outputs": [],
   "source": [
    "phones[\"very_good_condition\"] = phones[\"very_good_condition\"].astype(int)"
   ]
  },
  {
   "cell_type": "code",
   "execution_count": 1472,
   "metadata": {},
   "outputs": [],
   "source": [
    "phones[\"very_bad_condition\"] = phones[\"very_bad_condition\"].astype(int)"
   ]
  },
  {
   "cell_type": "markdown",
   "metadata": {},
   "source": [
    "## Encode categorical features"
   ]
  },
  {
   "cell_type": "code",
   "execution_count": 1473,
   "metadata": {},
   "outputs": [
    {
     "data": {
      "text/html": [
       "<div>\n",
       "<style scoped>\n",
       "    .dataframe tbody tr th:only-of-type {\n",
       "        vertical-align: middle;\n",
       "    }\n",
       "\n",
       "    .dataframe tbody tr th {\n",
       "        vertical-align: top;\n",
       "    }\n",
       "\n",
       "    .dataframe thead th {\n",
       "        text-align: right;\n",
       "    }\n",
       "</style>\n",
       "<table border=\"1\" class=\"dataframe\">\n",
       "  <thead>\n",
       "    <tr style=\"text-align: right;\">\n",
       "      <th></th>\n",
       "      <th>_id</th>\n",
       "      <th>active</th>\n",
       "      <th>closure_date</th>\n",
       "      <th>closure_reason</th>\n",
       "      <th>color</th>\n",
       "      <th>condition</th>\n",
       "      <th>creation_date</th>\n",
       "      <th>fianl_shipping_cost</th>\n",
       "      <th>final_price</th>\n",
       "      <th>last_update</th>\n",
       "      <th>link</th>\n",
       "      <th>memory</th>\n",
       "      <th>mobile_operator</th>\n",
       "      <th>model</th>\n",
       "      <th>multiple_items_available</th>\n",
       "      <th>number_of_reviews</th>\n",
       "      <th>old</th>\n",
       "      <th>page_not_found</th>\n",
       "      <th>photos</th>\n",
       "      <th>price</th>\n",
       "      <th>return_policy</th>\n",
       "      <th>search_term</th>\n",
       "      <th>selers_feedback</th>\n",
       "      <th>shipping_cost</th>\n",
       "      <th>text_description</th>\n",
       "      <th>title</th>\n",
       "      <th>title_contains_memory_info</th>\n",
       "      <th>listing_was_active_before_closure</th>\n",
       "      <th>without_mobile_operator</th>\n",
       "      <th>number_of_photos</th>\n",
       "      <th>no_feedback_yet</th>\n",
       "      <th>very_good_condition</th>\n",
       "      <th>very_bad_condition</th>\n",
       "    </tr>\n",
       "  </thead>\n",
       "  <tbody>\n",
       "  </tbody>\n",
       "</table>\n",
       "</div>"
      ],
      "text/plain": [
       "Empty DataFrame\n",
       "Columns: [_id, active, closure_date, closure_reason, color, condition, creation_date, fianl_shipping_cost, final_price, last_update, link, memory, mobile_operator, model, multiple_items_available, number_of_reviews, old, page_not_found, photos, price, return_policy, search_term, selers_feedback, shipping_cost, text_description, title, title_contains_memory_info, listing_was_active_before_closure, without_mobile_operator, number_of_photos, no_feedback_yet, very_good_condition, very_bad_condition]\n",
       "Index: []"
      ]
     },
     "execution_count": 1473,
     "metadata": {},
     "output_type": "execute_result"
    }
   ],
   "source": [
    "phones.loc[phones['listing_was_active_before_closure'].isna()]"
   ]
  },
  {
   "cell_type": "code",
   "execution_count": 1474,
   "metadata": {},
   "outputs": [],
   "source": [
    "phones = phones.reset_index()"
   ]
  },
  {
   "cell_type": "code",
   "execution_count": 1475,
   "metadata": {},
   "outputs": [],
   "source": [
    "features_for_one_hot_enc = [\"model\", \"color\", \"memory\", 'return_policy']"
   ]
  },
  {
   "cell_type": "code",
   "execution_count": 1476,
   "metadata": {},
   "outputs": [],
   "source": [
    "for feature in features_for_one_hot_enc:\n",
    "    phones[feature] = feature + \"_\" + phones[feature]"
   ]
  },
  {
   "cell_type": "code",
   "execution_count": 1477,
   "metadata": {},
   "outputs": [],
   "source": [
    "encoder = OneHotEncoder()\n",
    "encoded = encoder.fit_transform(phones.loc[:, features_for_one_hot_enc]);\n",
    "categories = []\n",
    "for i in range(0, len(encoder.categories_)):\n",
    "    categories = np.concatenate((categories, encoder.categories_[i]), axis=None)\n",
    "for i in range(0, len(categories)):\n",
    "    phones = pd.concat([phones, pd.DataFrame(encoded[:,i].toarray(), columns = [categories[i]])], axis=1, sort=False)"
   ]
  },
  {
   "cell_type": "code",
   "execution_count": 1478,
   "metadata": {},
   "outputs": [],
   "source": [
    "model_features = []"
   ]
  },
  {
   "cell_type": "code",
   "execution_count": 1479,
   "metadata": {},
   "outputs": [],
   "source": [
    "model_features.extend(categories)"
   ]
  },
  {
   "cell_type": "markdown",
   "metadata": {},
   "source": [
    "## Encode binary values "
   ]
  },
  {
   "cell_type": "code",
   "execution_count": 1480,
   "metadata": {},
   "outputs": [
    {
     "data": {
      "text/plain": [
       "array([nan, True], dtype=object)"
      ]
     },
     "execution_count": 1480,
     "metadata": {},
     "output_type": "execute_result"
    }
   ],
   "source": [
    "phones['old'].unique() #don't use them. Already added number big value before the sale days"
   ]
  },
  {
   "cell_type": "code",
   "execution_count": 1481,
   "metadata": {},
   "outputs": [
    {
     "data": {
      "text/plain": [
       "array([False,  True])"
      ]
     },
     "execution_count": 1481,
     "metadata": {},
     "output_type": "execute_result"
    }
   ],
   "source": [
    "phones[\"no_feedback_yet\"].unique()"
   ]
  },
  {
   "cell_type": "code",
   "execution_count": 1482,
   "metadata": {},
   "outputs": [],
   "source": [
    "phones[\"no_feedback_yet\"] = phones[\"no_feedback_yet\"].astype(int)"
   ]
  },
  {
   "cell_type": "code",
   "execution_count": 1483,
   "metadata": {},
   "outputs": [],
   "source": [
    "model_features.append('no_feedback_yet')"
   ]
  },
  {
   "cell_type": "code",
   "execution_count": 1484,
   "metadata": {},
   "outputs": [],
   "source": [
    "model_features.append('very_good_condition')"
   ]
  },
  {
   "cell_type": "code",
   "execution_count": 1485,
   "metadata": {},
   "outputs": [],
   "source": [
    "model_features.append('very_bad_condition')"
   ]
  },
  {
   "cell_type": "markdown",
   "metadata": {},
   "source": [
    "## Numerical values"
   ]
  },
  {
   "cell_type": "markdown",
   "metadata": {},
   "source": [
    "price and final_price: need combine them"
   ]
  },
  {
   "cell_type": "code",
   "execution_count": 1486,
   "metadata": {},
   "outputs": [],
   "source": [
    "def set_price(row):\n",
    "    if (math.isnan(row['final_price'])):\n",
    "        return row['price']\n",
    "    else:\n",
    "        return row['final_price']"
   ]
  },
  {
   "cell_type": "code",
   "execution_count": 1487,
   "metadata": {},
   "outputs": [],
   "source": [
    "phones[\"price\"] = phones.apply(set_price, axis=1)"
   ]
  },
  {
   "cell_type": "markdown",
   "metadata": {},
   "source": [
    "fianl_shipping_cost and shipping_cost: need combine them"
   ]
  },
  {
   "cell_type": "code",
   "execution_count": 1488,
   "metadata": {},
   "outputs": [],
   "source": [
    "def set_shipping(row):\n",
    "    if (math.isnan(row['fianl_shipping_cost'])):\n",
    "        return row['shipping_cost']\n",
    "    else:\n",
    "        return row['fianl_shipping_cost']"
   ]
  },
  {
   "cell_type": "code",
   "execution_count": 1489,
   "metadata": {},
   "outputs": [],
   "source": [
    "phones[\"shipping_cost\"] = phones.apply(set_shipping, axis=1)"
   ]
  },
  {
   "cell_type": "markdown",
   "metadata": {},
   "source": [
    "remove reselers"
   ]
  },
  {
   "cell_type": "code",
   "execution_count": 1490,
   "metadata": {},
   "outputs": [],
   "source": [
    "phones = phones.loc[phones[\"number_of_reviews\"] < 5000]"
   ]
  },
  {
   "cell_type": "code",
   "execution_count": 1491,
   "metadata": {},
   "outputs": [],
   "source": [
    "model_features.extend([\"shipping_cost\", \"number_of_reviews\", \"selers_feedback\", \"listing_was_active_before_closure\"])"
   ]
  },
  {
   "cell_type": "markdown",
   "metadata": {},
   "source": [
    "### MEAN PRICE"
   ]
  },
  {
   "cell_type": "code",
   "execution_count": 1492,
   "metadata": {},
   "outputs": [],
   "source": [
    "phones[\"total_price\"] = phones[\"price\"] + phones[\"shipping_cost\"]"
   ]
  },
  {
   "cell_type": "code",
   "execution_count": 1493,
   "metadata": {},
   "outputs": [],
   "source": [
    "model_features.append('price')"
   ]
  },
  {
   "cell_type": "markdown",
   "metadata": {},
   "source": [
    "## Bug!!! Need to calculate mean_prices only on the Train set. Don't use test set data here!"
   ]
  },
  {
   "cell_type": "code",
   "execution_count": 1494,
   "metadata": {},
   "outputs": [],
   "source": [
    "mean_prices = phones.groupby(['model', 'memory', 'color'])['total_price'].mean().reset_index()"
   ]
  },
  {
   "cell_type": "code",
   "execution_count": 1495,
   "metadata": {},
   "outputs": [],
   "source": [
    "def set_mean_price(row):\n",
    "    price = mean_prices.loc[(mean_prices.model == row.model) & (mean_prices.memory  == row.memory) \n",
    "                            & (mean_prices.color == row.color)].total_price\n",
    "    if (price.shape[0] < 1):\n",
    "        price = mean_prices.loc[(mean_prices.model == row.model) & (mean_prices.memory  == row.memory)].total_price\n",
    "    if (price.shape[0] < 1):\n",
    "        price = mean_prices.loc[(mean_prices.model == row.model)].total_price\n",
    "    return price.tolist()[0]"
   ]
  },
  {
   "cell_type": "code",
   "execution_count": 1496,
   "metadata": {},
   "outputs": [],
   "source": [
    "phones[\"mean_price\"] = phones.apply(set_mean_price, axis=1)"
   ]
  },
  {
   "cell_type": "code",
   "execution_count": 1497,
   "metadata": {},
   "outputs": [
    {
     "data": {
      "text/plain": [
       "count    4435.000000\n",
       "mean      221.597878\n",
       "std       167.548515\n",
       "min        16.000000\n",
       "25%        87.180000\n",
       "50%       169.829350\n",
       "75%       319.530814\n",
       "max       881.900000\n",
       "Name: mean_price, dtype: float64"
      ]
     },
     "execution_count": 1497,
     "metadata": {},
     "output_type": "execute_result"
    }
   ],
   "source": [
    "phones[\"mean_price\"].describe()"
   ]
  },
  {
   "cell_type": "code",
   "execution_count": 1498,
   "metadata": {},
   "outputs": [],
   "source": [
    "phones[\"price_difference\"] = (phones[\"total_price\"] - phones[\"mean_price\"])/phones[\"mean_price\"]"
   ]
  },
  {
   "cell_type": "code",
   "execution_count": 1499,
   "metadata": {},
   "outputs": [],
   "source": [
    "phones = phones.loc[phones[\"price_difference\"] < 1.5]"
   ]
  },
  {
   "cell_type": "code",
   "execution_count": 1500,
   "metadata": {},
   "outputs": [],
   "source": [
    "phones = phones.loc[phones[\"price_difference\"] > -1]"
   ]
  },
  {
   "cell_type": "code",
   "execution_count": 1501,
   "metadata": {},
   "outputs": [],
   "source": [
    "mean_prices = phones.groupby(['model', 'memory', 'color'])['total_price'].mean().reset_index()"
   ]
  },
  {
   "cell_type": "code",
   "execution_count": 1502,
   "metadata": {},
   "outputs": [],
   "source": [
    "phones[\"mean_price\"] = phones.apply(set_mean_price, axis=1)"
   ]
  },
  {
   "cell_type": "code",
   "execution_count": 1503,
   "metadata": {},
   "outputs": [],
   "source": [
    "mean_prices.to_pickle(\"mean_prices\")"
   ]
  },
  {
   "cell_type": "markdown",
   "metadata": {},
   "source": [
    "## Save median active days"
   ]
  },
  {
   "cell_type": "code",
   "execution_count": 1541,
   "metadata": {},
   "outputs": [],
   "source": [
    "median_active_days = phones.groupby(['model', 'memory', 'color'])['listing_was_active_before_closure'].agg(['median', 'count']).reset_index()"
   ]
  },
  {
   "cell_type": "code",
   "execution_count": 1543,
   "metadata": {},
   "outputs": [],
   "source": [
    "median_active_days.to_pickle(\"median_active_days\")"
   ]
  },
  {
   "cell_type": "markdown",
   "metadata": {},
   "source": [
    "## Preparing features and data format for the model"
   ]
  },
  {
   "cell_type": "code",
   "execution_count": 1506,
   "metadata": {},
   "outputs": [],
   "source": [
    "normalize = {\" \": \"_\", \"ö\": \"o\", \"ä\": \"a\", \"ß\": \"ss\", \"ü\": \"u\"}"
   ]
  },
  {
   "cell_type": "code",
   "execution_count": 1507,
   "metadata": {},
   "outputs": [],
   "source": [
    "for key in normalize:\n",
    "    phones.columns = phones.columns.str.replace(key, normalize[key])"
   ]
  },
  {
   "cell_type": "code",
   "execution_count": 1508,
   "metadata": {},
   "outputs": [],
   "source": [
    "rename_columns = {\n",
    "                    \"return_policy_Verbraucher_konnen_den_Artikel_zu_den_unten_angegebenen_Bedingungen_zuruckgeben_Kaufer_zahlt_Ruckversand\": \"return_policy_seller_pays\",\n",
    "                    \"return_policy_Verbraucher_konnen_den_Artikel_zu_den_unten_angegebenen_Bedingungen_zuruckgeben\": \"return_policy_buyer_pays\",\n",
    "    \"return_policy_Keine_Rucknahme\": \"return_policy_no_return\"}"
   ]
  },
  {
   "cell_type": "code",
   "execution_count": 1509,
   "metadata": {},
   "outputs": [],
   "source": [
    "phones = phones.rename(rename_columns, axis=1)"
   ]
  },
  {
   "cell_type": "code",
   "execution_count": 1510,
   "metadata": {},
   "outputs": [],
   "source": [
    "phones_filename = 'phones.pkl'\n",
    "phones.to_pickle(phones_filename)"
   ]
  },
  {
   "cell_type": "code",
   "execution_count": 1511,
   "metadata": {},
   "outputs": [],
   "source": [
    "phones = pd.read_pickle(phones_filename)"
   ]
  },
  {
   "cell_type": "markdown",
   "metadata": {},
   "source": [
    "features"
   ]
  },
  {
   "cell_type": "code",
   "execution_count": 1512,
   "metadata": {},
   "outputs": [],
   "source": [
    "for key in normalize:\n",
    "    model_features = [w.replace(key, normalize[key]) for w in model_features]"
   ]
  },
  {
   "cell_type": "code",
   "execution_count": 1513,
   "metadata": {},
   "outputs": [],
   "source": [
    "for key in rename_columns:\n",
    "    if key in model_features:\n",
    "        model_features.remove(key)\n",
    "        model_features.append(rename_columns[key])"
   ]
  },
  {
   "cell_type": "code",
   "execution_count": 1514,
   "metadata": {},
   "outputs": [
    {
     "data": {
      "text/plain": [
       "array(['return_policy_Keine Rücknahme',\n",
       "       'return_policy_Verbraucher können den Artikel zu den unten angegebenen Bedingungen zurückgeben'],\n",
       "      dtype=object)"
      ]
     },
     "execution_count": 1514,
     "metadata": {},
     "output_type": "execute_result"
    }
   ],
   "source": [
    "phones['return_policy'].unique()"
   ]
  },
  {
   "cell_type": "code",
   "execution_count": 1515,
   "metadata": {},
   "outputs": [
    {
     "data": {
      "text/plain": [
       "['model_iphone_11',\n",
       " 'model_iphone_11_pro',\n",
       " 'model_iphone_11_pro_max',\n",
       " 'model_iphone_5',\n",
       " 'model_iphone_5c',\n",
       " 'model_iphone_5s',\n",
       " 'model_iphone_6',\n",
       " 'model_iphone_6_plus',\n",
       " 'model_iphone_6s',\n",
       " 'model_iphone_6s_plus',\n",
       " 'model_iphone_7',\n",
       " 'model_iphone_7_plus',\n",
       " 'model_iphone_8',\n",
       " 'model_iphone_8_plus',\n",
       " 'model_iphone_se',\n",
       " 'model_iphone_se_2',\n",
       " 'model_iphone_x',\n",
       " 'model_iphone_xr',\n",
       " 'model_iphone_xs',\n",
       " 'model_iphone_xs_max',\n",
       " 'color_blau',\n",
       " 'color_gelb',\n",
       " 'color_gold',\n",
       " 'color_grau',\n",
       " 'color_grun',\n",
       " 'color_lila',\n",
       " 'color_orange',\n",
       " 'color_other',\n",
       " 'color_rosa',\n",
       " 'color_rosagold',\n",
       " 'color_rot',\n",
       " 'color_schwarz',\n",
       " 'color_silber',\n",
       " 'color_spacegrau',\n",
       " 'color_weiss',\n",
       " 'memory_128GB',\n",
       " 'memory_16GB',\n",
       " 'memory_256GB',\n",
       " 'memory_32GB',\n",
       " 'memory_512GB',\n",
       " 'memory_64GB',\n",
       " 'no_feedback_yet',\n",
       " 'very_good_condition',\n",
       " 'very_bad_condition',\n",
       " 'shipping_cost',\n",
       " 'number_of_reviews',\n",
       " 'selers_feedback',\n",
       " 'listing_was_active_before_closure',\n",
       " 'price',\n",
       " 'return_policy_buyer_pays',\n",
       " 'return_policy_no_return']"
      ]
     },
     "execution_count": 1515,
     "metadata": {},
     "output_type": "execute_result"
    }
   ],
   "source": [
    "model_features"
   ]
  },
  {
   "cell_type": "code",
   "execution_count": 1516,
   "metadata": {},
   "outputs": [],
   "source": [
    "model_features_filename = 'model_features.pkl'"
   ]
  },
  {
   "cell_type": "code",
   "execution_count": 1517,
   "metadata": {},
   "outputs": [],
   "source": [
    "pickle.dump(model_features, open(model_features_filename, 'wb'))\n"
   ]
  },
  {
   "cell_type": "code",
   "execution_count": 1518,
   "metadata": {},
   "outputs": [],
   "source": [
    "loaded_model_feature = pickle.load(open(model_features_filename, 'rb'))"
   ]
  },
  {
   "cell_type": "code",
   "execution_count": 1519,
   "metadata": {},
   "outputs": [],
   "source": [
    "model_features = loaded_model_feature"
   ]
  },
  {
   "cell_type": "code",
   "execution_count": 1520,
   "metadata": {},
   "outputs": [],
   "source": [
    "model_features.append('mean_price')"
   ]
  },
  {
   "cell_type": "code",
   "execution_count": 1521,
   "metadata": {},
   "outputs": [
    {
     "data": {
      "text/plain": [
       "['model_iphone_11',\n",
       " 'model_iphone_11_pro',\n",
       " 'model_iphone_11_pro_max',\n",
       " 'model_iphone_5',\n",
       " 'model_iphone_5c',\n",
       " 'model_iphone_5s',\n",
       " 'model_iphone_6',\n",
       " 'model_iphone_6_plus',\n",
       " 'model_iphone_6s',\n",
       " 'model_iphone_6s_plus',\n",
       " 'model_iphone_7',\n",
       " 'model_iphone_7_plus',\n",
       " 'model_iphone_8',\n",
       " 'model_iphone_8_plus',\n",
       " 'model_iphone_se',\n",
       " 'model_iphone_se_2',\n",
       " 'model_iphone_x',\n",
       " 'model_iphone_xr',\n",
       " 'model_iphone_xs',\n",
       " 'model_iphone_xs_max',\n",
       " 'color_blau',\n",
       " 'color_gelb',\n",
       " 'color_gold',\n",
       " 'color_grau',\n",
       " 'color_grun',\n",
       " 'color_lila',\n",
       " 'color_orange',\n",
       " 'color_other',\n",
       " 'color_rosa',\n",
       " 'color_rosagold',\n",
       " 'color_rot',\n",
       " 'color_schwarz',\n",
       " 'color_silber',\n",
       " 'color_spacegrau',\n",
       " 'color_weiss',\n",
       " 'memory_128GB',\n",
       " 'memory_16GB',\n",
       " 'memory_256GB',\n",
       " 'memory_32GB',\n",
       " 'memory_512GB',\n",
       " 'memory_64GB',\n",
       " 'no_feedback_yet',\n",
       " 'very_good_condition',\n",
       " 'very_bad_condition',\n",
       " 'shipping_cost',\n",
       " 'number_of_reviews',\n",
       " 'selers_feedback',\n",
       " 'listing_was_active_before_closure',\n",
       " 'price',\n",
       " 'return_policy_buyer_pays',\n",
       " 'return_policy_no_return',\n",
       " 'mean_price']"
      ]
     },
     "execution_count": 1521,
     "metadata": {},
     "output_type": "execute_result"
    }
   ],
   "source": [
    "model_features"
   ]
  },
  {
   "cell_type": "code",
   "execution_count": 1522,
   "metadata": {},
   "outputs": [],
   "source": [
    "all_data = phones[[\"_id\"]]"
   ]
  },
  {
   "cell_type": "code",
   "execution_count": 1523,
   "metadata": {},
   "outputs": [],
   "source": [
    "model_features.append(\"_id\")"
   ]
  },
  {
   "cell_type": "code",
   "execution_count": 1524,
   "metadata": {},
   "outputs": [],
   "source": [
    "model_features.append(\"model\")"
   ]
  },
  {
   "cell_type": "markdown",
   "metadata": {},
   "source": [
    "# SPLIT SET"
   ]
  },
  {
   "cell_type": "code",
   "execution_count": 1525,
   "metadata": {},
   "outputs": [],
   "source": [
    "all_data = pd.merge(all_data, phones[model_features], on=['_id'], how='left')"
   ]
  },
  {
   "cell_type": "markdown",
   "metadata": {},
   "source": [
    "#TODO check if \"return_policy_Verbraucher_konnen_den_Artikel_zu_den_unten_angegebenen_Bedingungen_zurückgeben\" really always means that buyer pays"
   ]
  },
  {
   "cell_type": "code",
   "execution_count": 1526,
   "metadata": {},
   "outputs": [],
   "source": [
    "data_filename = 'all_data.pkl'\n",
    "all_data.to_pickle(data_filename)"
   ]
  },
  {
   "cell_type": "code",
   "execution_count": 1527,
   "metadata": {},
   "outputs": [],
   "source": [
    "all_data = pd.read_pickle(data_filename)\n"
   ]
  },
  {
   "cell_type": "code",
   "execution_count": 1528,
   "metadata": {},
   "outputs": [
    {
     "data": {
      "text/plain": [
       "(4427, 54)"
      ]
     },
     "execution_count": 1528,
     "metadata": {},
     "output_type": "execute_result"
    }
   ],
   "source": [
    "all_data.shape"
   ]
  },
  {
   "cell_type": "code",
   "execution_count": 1529,
   "metadata": {},
   "outputs": [],
   "source": [
    "train, test = train_test_split(all_data, test_size=0.1, random_state=42)"
   ]
  },
  {
   "cell_type": "code",
   "execution_count": null,
   "metadata": {},
   "outputs": [],
   "source": []
  },
  {
   "cell_type": "code",
   "execution_count": 1530,
   "metadata": {},
   "outputs": [],
   "source": [
    "X_train = train.drop(['_id', 'model', 'price'], axis=1)\n",
    "X_test = test.drop(['_id', 'model', 'price'], axis=1)"
   ]
  },
  {
   "cell_type": "code",
   "execution_count": 1531,
   "metadata": {},
   "outputs": [],
   "source": [
    "Y_train = train['price']\n",
    "Y_test = test['price']"
   ]
  },
  {
   "cell_type": "code",
   "execution_count": 1532,
   "metadata": {},
   "outputs": [],
   "source": [
    "X_train_filename = 'X_train.pkl'"
   ]
  },
  {
   "cell_type": "code",
   "execution_count": 1533,
   "metadata": {},
   "outputs": [],
   "source": [
    "X_test_filename = \"X_test.pkl\""
   ]
  },
  {
   "cell_type": "code",
   "execution_count": 1534,
   "metadata": {},
   "outputs": [],
   "source": [
    "Y_train_filename = \"Y_train.pkl\""
   ]
  },
  {
   "cell_type": "code",
   "execution_count": 1535,
   "metadata": {},
   "outputs": [],
   "source": [
    "Y_test_filename = \"Y_test.pkl\""
   ]
  },
  {
   "cell_type": "code",
   "execution_count": 1536,
   "metadata": {},
   "outputs": [],
   "source": [
    "X_train.to_pickle(X_train_filename)"
   ]
  },
  {
   "cell_type": "code",
   "execution_count": 1537,
   "metadata": {},
   "outputs": [],
   "source": [
    "X_test.to_pickle(X_test_filename)"
   ]
  },
  {
   "cell_type": "code",
   "execution_count": 1538,
   "metadata": {},
   "outputs": [],
   "source": [
    "Y_train.to_pickle(Y_train_filename)"
   ]
  },
  {
   "cell_type": "code",
   "execution_count": 1539,
   "metadata": {},
   "outputs": [],
   "source": [
    "Y_test.to_pickle(Y_test_filename)"
   ]
  },
  {
   "cell_type": "code",
   "execution_count": 1540,
   "metadata": {},
   "outputs": [
    {
     "data": {
      "text/html": [
       "<div>\n",
       "<style scoped>\n",
       "    .dataframe tbody tr th:only-of-type {\n",
       "        vertical-align: middle;\n",
       "    }\n",
       "\n",
       "    .dataframe tbody tr th {\n",
       "        vertical-align: top;\n",
       "    }\n",
       "\n",
       "    .dataframe thead th {\n",
       "        text-align: right;\n",
       "    }\n",
       "</style>\n",
       "<table border=\"1\" class=\"dataframe\">\n",
       "  <thead>\n",
       "    <tr style=\"text-align: right;\">\n",
       "      <th></th>\n",
       "      <th>model_iphone_11</th>\n",
       "      <th>model_iphone_11_pro</th>\n",
       "      <th>model_iphone_11_pro_max</th>\n",
       "      <th>model_iphone_5</th>\n",
       "      <th>model_iphone_5c</th>\n",
       "      <th>model_iphone_5s</th>\n",
       "      <th>model_iphone_6</th>\n",
       "      <th>model_iphone_6_plus</th>\n",
       "      <th>model_iphone_6s</th>\n",
       "      <th>model_iphone_6s_plus</th>\n",
       "      <th>model_iphone_7</th>\n",
       "      <th>model_iphone_7_plus</th>\n",
       "      <th>model_iphone_8</th>\n",
       "      <th>model_iphone_8_plus</th>\n",
       "      <th>model_iphone_se</th>\n",
       "      <th>model_iphone_se_2</th>\n",
       "      <th>model_iphone_x</th>\n",
       "      <th>model_iphone_xr</th>\n",
       "      <th>model_iphone_xs</th>\n",
       "      <th>model_iphone_xs_max</th>\n",
       "      <th>color_blau</th>\n",
       "      <th>color_gelb</th>\n",
       "      <th>color_gold</th>\n",
       "      <th>color_grau</th>\n",
       "      <th>color_grun</th>\n",
       "      <th>color_lila</th>\n",
       "      <th>color_orange</th>\n",
       "      <th>color_other</th>\n",
       "      <th>color_rosa</th>\n",
       "      <th>color_rosagold</th>\n",
       "      <th>color_rot</th>\n",
       "      <th>color_schwarz</th>\n",
       "      <th>color_silber</th>\n",
       "      <th>color_spacegrau</th>\n",
       "      <th>color_weiss</th>\n",
       "      <th>memory_128GB</th>\n",
       "      <th>memory_16GB</th>\n",
       "      <th>memory_256GB</th>\n",
       "      <th>memory_32GB</th>\n",
       "      <th>memory_512GB</th>\n",
       "      <th>memory_64GB</th>\n",
       "      <th>no_feedback_yet</th>\n",
       "      <th>very_good_condition</th>\n",
       "      <th>very_bad_condition</th>\n",
       "      <th>shipping_cost</th>\n",
       "      <th>number_of_reviews</th>\n",
       "      <th>selers_feedback</th>\n",
       "      <th>listing_was_active_before_closure</th>\n",
       "      <th>return_policy_buyer_pays</th>\n",
       "      <th>return_policy_no_return</th>\n",
       "      <th>mean_price</th>\n",
       "    </tr>\n",
       "  </thead>\n",
       "  <tbody>\n",
       "    <tr>\n",
       "      <th>1126</th>\n",
       "      <td>0.0</td>\n",
       "      <td>0.0</td>\n",
       "      <td>0.0</td>\n",
       "      <td>1.0</td>\n",
       "      <td>0.0</td>\n",
       "      <td>0.0</td>\n",
       "      <td>0.0</td>\n",
       "      <td>0.0</td>\n",
       "      <td>0.0</td>\n",
       "      <td>0.0</td>\n",
       "      <td>0.0</td>\n",
       "      <td>0.0</td>\n",
       "      <td>0.0</td>\n",
       "      <td>0.0</td>\n",
       "      <td>0.0</td>\n",
       "      <td>0.0</td>\n",
       "      <td>0.0</td>\n",
       "      <td>0.0</td>\n",
       "      <td>0.0</td>\n",
       "      <td>0.0</td>\n",
       "      <td>0.0</td>\n",
       "      <td>0.0</td>\n",
       "      <td>0.0</td>\n",
       "      <td>0.0</td>\n",
       "      <td>0.0</td>\n",
       "      <td>0.0</td>\n",
       "      <td>0.0</td>\n",
       "      <td>0.0</td>\n",
       "      <td>0.0</td>\n",
       "      <td>0.0</td>\n",
       "      <td>0.0</td>\n",
       "      <td>0.0</td>\n",
       "      <td>0.0</td>\n",
       "      <td>0.0</td>\n",
       "      <td>1.0</td>\n",
       "      <td>0.0</td>\n",
       "      <td>1.0</td>\n",
       "      <td>0.0</td>\n",
       "      <td>0.0</td>\n",
       "      <td>0.0</td>\n",
       "      <td>0.0</td>\n",
       "      <td>0</td>\n",
       "      <td>0</td>\n",
       "      <td>0</td>\n",
       "      <td>4.99</td>\n",
       "      <td>1142</td>\n",
       "      <td>100.0</td>\n",
       "      <td>1</td>\n",
       "      <td>0.0</td>\n",
       "      <td>1.0</td>\n",
       "      <td>28.163</td>\n",
       "    </tr>\n",
       "  </tbody>\n",
       "</table>\n",
       "</div>"
      ],
      "text/plain": [
       "      model_iphone_11  model_iphone_11_pro  model_iphone_11_pro_max  \\\n",
       "1126              0.0                  0.0                      0.0   \n",
       "\n",
       "      model_iphone_5  model_iphone_5c  model_iphone_5s  model_iphone_6  \\\n",
       "1126             1.0              0.0              0.0             0.0   \n",
       "\n",
       "      model_iphone_6_plus  model_iphone_6s  model_iphone_6s_plus  \\\n",
       "1126                  0.0              0.0                   0.0   \n",
       "\n",
       "      model_iphone_7  model_iphone_7_plus  model_iphone_8  \\\n",
       "1126             0.0                  0.0             0.0   \n",
       "\n",
       "      model_iphone_8_plus  model_iphone_se  model_iphone_se_2  model_iphone_x  \\\n",
       "1126                  0.0              0.0                0.0             0.0   \n",
       "\n",
       "      model_iphone_xr  model_iphone_xs  model_iphone_xs_max  color_blau  \\\n",
       "1126              0.0              0.0                  0.0         0.0   \n",
       "\n",
       "      color_gelb  color_gold  color_grau  color_grun  color_lila  \\\n",
       "1126         0.0         0.0         0.0         0.0         0.0   \n",
       "\n",
       "      color_orange  color_other  color_rosa  color_rosagold  color_rot  \\\n",
       "1126           0.0          0.0         0.0             0.0        0.0   \n",
       "\n",
       "      color_schwarz  color_silber  color_spacegrau  color_weiss  memory_128GB  \\\n",
       "1126            0.0           0.0              0.0          1.0           0.0   \n",
       "\n",
       "      memory_16GB  memory_256GB  memory_32GB  memory_512GB  memory_64GB  \\\n",
       "1126          1.0           0.0          0.0           0.0          0.0   \n",
       "\n",
       "      no_feedback_yet  very_good_condition  very_bad_condition  shipping_cost  \\\n",
       "1126                0                    0                   0           4.99   \n",
       "\n",
       "      number_of_reviews  selers_feedback  listing_was_active_before_closure  \\\n",
       "1126               1142            100.0                                  1   \n",
       "\n",
       "      return_policy_buyer_pays  return_policy_no_return  mean_price  \n",
       "1126                       0.0                      1.0      28.163  "
      ]
     },
     "execution_count": 1540,
     "metadata": {},
     "output_type": "execute_result"
    }
   ],
   "source": [
    "X_train.head(1)"
   ]
  },
  {
   "cell_type": "code",
   "execution_count": null,
   "metadata": {},
   "outputs": [],
   "source": []
  }
 ],
 "metadata": {
  "kernelspec": {
   "display_name": "Python 3",
   "language": "python",
   "name": "python3"
  },
  "language_info": {
   "codemirror_mode": {
    "name": "ipython",
    "version": 3
   },
   "file_extension": ".py",
   "mimetype": "text/x-python",
   "name": "python",
   "nbconvert_exporter": "python",
   "pygments_lexer": "ipython3",
   "version": "3.6.8"
  }
 },
 "nbformat": 4,
 "nbformat_minor": 2
}
