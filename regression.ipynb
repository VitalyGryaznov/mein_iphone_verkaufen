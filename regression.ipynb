{
 "cells": [
  {
   "cell_type": "code",
   "execution_count": 393,
   "metadata": {},
   "outputs": [],
   "source": [
    "import numpy as np \n",
    "import pandas as pd \n",
    "import seaborn as sns\n",
    "import re\n",
    "from datetime import datetime\n",
    "import math\n",
    "import locale\n",
    "from sklearn.preprocessing import LabelEncoder\n",
    "from sklearn.metrics import accuracy_score\n",
    "from sklearn import metrics\n",
    "from xgboost import XGBRegressor, DMatrix\n",
    "from xgboost import XGBClassifier\n",
    "from sklearn.metrics import mean_squared_error\n",
    "from sklearn.preprocessing import OneHotEncoder\n",
    "from sklearn.model_selection import train_test_split\n",
    "import pickle\n",
    "from sklearn.model_selection import StratifiedKFold\n",
    "from sklearn.model_selection import cross_val_score\n",
    "from matplotlib import pyplot as plt \n",
    "from statistics import mean"
   ]
  },
  {
   "cell_type": "code",
   "execution_count": 394,
   "metadata": {},
   "outputs": [],
   "source": [
    "from sklearn.metrics import log_loss"
   ]
  },
  {
   "cell_type": "code",
   "execution_count": 395,
   "metadata": {},
   "outputs": [],
   "source": [
    "from sklearn.metrics import explained_variance_score"
   ]
  },
  {
   "cell_type": "code",
   "execution_count": 396,
   "metadata": {},
   "outputs": [],
   "source": [
    "from sklearn.model_selection import GridSearchCV\n",
    "from sklearn.metrics import classification_report\n",
    "from sklearn.svm import SVC\n",
    "from sklearn.svm import SVR"
   ]
  },
  {
   "cell_type": "code",
   "execution_count": 397,
   "metadata": {},
   "outputs": [],
   "source": [
    "from sklearn.metrics import mean_absolute_error "
   ]
  },
  {
   "cell_type": "code",
   "execution_count": 398,
   "metadata": {},
   "outputs": [],
   "source": [
    "pd.set_option(\"display.max_columns\", 100)"
   ]
  },
  {
   "cell_type": "code",
   "execution_count": 399,
   "metadata": {},
   "outputs": [
    {
     "data": {
      "text/plain": [
       "'de_DE'"
      ]
     },
     "execution_count": 399,
     "metadata": {},
     "output_type": "execute_result"
    }
   ],
   "source": [
    "locale.setlocale(locale.LC_ALL, 'de_DE')"
   ]
  },
  {
   "cell_type": "code",
   "execution_count": 400,
   "metadata": {},
   "outputs": [],
   "source": [
    "X_train_filename = 'X_train.pkl'"
   ]
  },
  {
   "cell_type": "code",
   "execution_count": 401,
   "metadata": {},
   "outputs": [],
   "source": [
    "X_test_filename = \"X_test.pkl\""
   ]
  },
  {
   "cell_type": "code",
   "execution_count": 402,
   "metadata": {},
   "outputs": [],
   "source": [
    "Y_train_filename = \"Y_train.pkl\""
   ]
  },
  {
   "cell_type": "code",
   "execution_count": 403,
   "metadata": {},
   "outputs": [],
   "source": [
    "Y_test_filename = \"Y_test.pkl\""
   ]
  },
  {
   "cell_type": "code",
   "execution_count": 404,
   "metadata": {},
   "outputs": [],
   "source": [
    "X_train = pd.read_pickle(X_train_filename)"
   ]
  },
  {
   "cell_type": "code",
   "execution_count": 405,
   "metadata": {},
   "outputs": [],
   "source": [
    "X_test = pd.read_pickle(X_test_filename)"
   ]
  },
  {
   "cell_type": "code",
   "execution_count": 406,
   "metadata": {},
   "outputs": [],
   "source": [
    "Y_train = pd.read_pickle(Y_train_filename)"
   ]
  },
  {
   "cell_type": "code",
   "execution_count": 407,
   "metadata": {},
   "outputs": [],
   "source": [
    "Y_test = pd.read_pickle(Y_test_filename)"
   ]
  },
  {
   "cell_type": "code",
   "execution_count": null,
   "metadata": {},
   "outputs": [],
   "source": []
  },
  {
   "cell_type": "markdown",
   "metadata": {},
   "source": [
    "## XBOOST REGRESSION"
   ]
  },
  {
   "cell_type": "code",
   "execution_count": 408,
   "metadata": {},
   "outputs": [],
   "source": [
    "params = {'max_depth':2, 'learning_rate': 0.1, 'verbose_eval': 4, 'early_stopping_rounds':10, 'n_estimators': 100}"
   ]
  },
  {
   "cell_type": "code",
   "execution_count": 409,
   "metadata": {},
   "outputs": [],
   "source": [
    "model = XGBRegressor(**params)"
   ]
  },
  {
   "cell_type": "code",
   "execution_count": 410,
   "metadata": {},
   "outputs": [
    {
     "data": {
      "text/plain": [
       "XGBRegressor(base_score=None, booster=None, colsample_bylevel=1,\n",
       "             colsample_bynode=1, colsample_bytree=1, early_stopping_rounds=10,\n",
       "             gamma=0, gpu_id=-1, importance_type='gain',\n",
       "             interaction_constraints=None, learning_rate=0.1, max_delta_step=0,\n",
       "             max_depth=2, min_child_weight=1, missing=nan,\n",
       "             monotone_constraints=None, n_estimators=100, n_jobs=0,\n",
       "             num_parallel_tree=1, random_state=0, reg_alpha=0, reg_lambda=1,\n",
       "             scale_pos_weight=1, subsample=1, tree_method=None,\n",
       "             validate_parameters=False, verbose_eval=4, verbosity=None)"
      ]
     },
     "execution_count": 410,
     "metadata": {},
     "output_type": "execute_result"
    }
   ],
   "source": [
    "model.fit(X_train.to_numpy(), Y_train.to_numpy())"
   ]
  },
  {
   "cell_type": "code",
   "execution_count": 411,
   "metadata": {},
   "outputs": [],
   "source": [
    "train_pred =  model.predict(X_train.to_numpy())"
   ]
  },
  {
   "cell_type": "code",
   "execution_count": 412,
   "metadata": {},
   "outputs": [
    {
     "data": {
      "text/plain": [
       "0.9475070429891549"
      ]
     },
     "execution_count": 412,
     "metadata": {},
     "output_type": "execute_result"
    }
   ],
   "source": [
    "explained_variance_score(Y_train.to_numpy(),train_pred)"
   ]
  },
  {
   "cell_type": "code",
   "execution_count": 413,
   "metadata": {},
   "outputs": [
    {
     "data": {
      "text/plain": [
       "25.618914376052032"
      ]
     },
     "execution_count": 413,
     "metadata": {},
     "output_type": "execute_result"
    }
   ],
   "source": [
    "mean_absolute_error(Y_train.to_numpy(),train_pred)"
   ]
  },
  {
   "cell_type": "code",
   "execution_count": 414,
   "metadata": {},
   "outputs": [],
   "source": [
    "test_pred = model.predict(X_test.to_numpy())"
   ]
  },
  {
   "cell_type": "code",
   "execution_count": 415,
   "metadata": {},
   "outputs": [
    {
     "data": {
      "text/plain": [
       "0.9396977981099907"
      ]
     },
     "execution_count": 415,
     "metadata": {},
     "output_type": "execute_result"
    }
   ],
   "source": [
    "explained_variance_score(Y_test.to_numpy(), test_pred)"
   ]
  },
  {
   "cell_type": "code",
   "execution_count": 416,
   "metadata": {},
   "outputs": [
    {
     "data": {
      "text/plain": [
       "29.77127428713555"
      ]
     },
     "execution_count": 416,
     "metadata": {},
     "output_type": "execute_result"
    }
   ],
   "source": [
    "mean_absolute_error(Y_test.to_numpy(), test_pred)"
   ]
  },
  {
   "cell_type": "code",
   "execution_count": 417,
   "metadata": {},
   "outputs": [
    {
     "data": {
      "text/plain": [
       "array([108.72741 ,  47.902565,  50.9816  , 133.08102 ,  48.774315,\n",
       "        47.9279  , 312.95615 ,  74.44746 ,  66.82995 , 172.32239 ],\n",
       "      dtype=float32)"
      ]
     },
     "execution_count": 417,
     "metadata": {},
     "output_type": "execute_result"
    }
   ],
   "source": [
    "model.predict(X_test.to_numpy())[0:10]"
   ]
  },
  {
   "cell_type": "code",
   "execution_count": 418,
   "metadata": {},
   "outputs": [
    {
     "data": {
      "text/plain": [
       "array([100.  ,  41.5 ,  59.99, 130.  ,  83.  ,  37.  , 290.  ,  60.  ,\n",
       "        99.  , 140.  ])"
      ]
     },
     "execution_count": 418,
     "metadata": {},
     "output_type": "execute_result"
    }
   ],
   "source": [
    "Y_test.to_numpy()[0:10]"
   ]
  },
  {
   "cell_type": "markdown",
   "metadata": {},
   "source": [
    "## BASE LINE"
   ]
  },
  {
   "cell_type": "code",
   "execution_count": 419,
   "metadata": {},
   "outputs": [
    {
     "data": {
      "text/plain": [
       "0.9398374058197002"
      ]
     },
     "execution_count": 419,
     "metadata": {},
     "output_type": "execute_result"
    }
   ],
   "source": [
    "explained_variance_score(Y_train.to_numpy(),X_train['mean_price'].to_numpy())"
   ]
  },
  {
   "cell_type": "code",
   "execution_count": 420,
   "metadata": {},
   "outputs": [
    {
     "data": {
      "text/plain": [
       "0.9395546953222932"
      ]
     },
     "execution_count": 420,
     "metadata": {},
     "output_type": "execute_result"
    }
   ],
   "source": [
    "explained_variance_score(Y_test.to_numpy(),X_test['mean_price'].to_numpy())"
   ]
  },
  {
   "cell_type": "markdown",
   "metadata": {},
   "source": [
    "## GRID"
   ]
  },
  {
   "cell_type": "code",
   "execution_count": 115,
   "metadata": {},
   "outputs": [],
   "source": [
    "parameters =    {\n",
    "            'max_depth': [1, 2, 3, 4, 5, 10],\n",
    "            'learning_rate': [0.001, 0.005, 0.1, 0.3, 0.4, 0.8],\n",
    "            'n_estimators': [20, 50, 100, 150],\n",
    "            'early_stopping_rounds':[10]\n",
    "            }"
   ]
  },
  {
   "cell_type": "code",
   "execution_count": 116,
   "metadata": {},
   "outputs": [
    {
     "name": "stdout",
     "output_type": "stream",
     "text": [
      "Fitting 5 folds for each of 144 candidates, totalling 720 fits\n"
     ]
    },
    {
     "name": "stderr",
     "output_type": "stream",
     "text": [
      "[Parallel(n_jobs=2)]: Using backend LokyBackend with 2 concurrent workers.\n",
      "[Parallel(n_jobs=2)]: Done  28 tasks      | elapsed:    4.2s\n",
      "[Parallel(n_jobs=2)]: Done 124 tasks      | elapsed:   24.8s\n",
      "[Parallel(n_jobs=2)]: Done 284 tasks      | elapsed:   59.9s\n",
      "[Parallel(n_jobs=2)]: Done 508 tasks      | elapsed:  3.0min\n",
      "[Parallel(n_jobs=2)]: Done 720 out of 720 | elapsed:  5.8min finished\n"
     ]
    },
    {
     "data": {
      "text/plain": [
       "GridSearchCV(cv=5,\n",
       "             estimator=XGBRegressor(base_score=None, booster=None,\n",
       "                                    colsample_bylevel=None,\n",
       "                                    colsample_bynode=None,\n",
       "                                    colsample_bytree=None, gamma=None,\n",
       "                                    gpu_id=None, importance_type='gain',\n",
       "                                    interaction_constraints=None,\n",
       "                                    learning_rate=None, max_delta_step=None,\n",
       "                                    max_depth=None, min_child_weight=None,\n",
       "                                    missing=nan, monotone_constraints=None,\n",
       "                                    n_estimators=100, n_jobs=...\n",
       "                                    num_parallel_tree=None, random_state=None,\n",
       "                                    reg_alpha=None, reg_lambda=None,\n",
       "                                    scale_pos_weight=None, silent=True,\n",
       "                                    subsample=None, tree_method=None,\n",
       "                                    validate_parameters=False, verbosity=None),\n",
       "             n_jobs=2,\n",
       "             param_grid={'early_stopping_rounds': [10],\n",
       "                         'learning_rate': [0.001, 0.005, 0.1, 0.3, 0.4, 0.8],\n",
       "                         'max_depth': [1, 2, 3, 4, 5, 10],\n",
       "                         'n_estimators': [20, 50, 100, 150]},\n",
       "             scoring='explained_variance', verbose=3)"
      ]
     },
     "execution_count": 116,
     "metadata": {},
     "output_type": "execute_result"
    }
   ],
   "source": [
    "\n",
    "xgb_model = XGBRegressor(silent = True)\n",
    "\n",
    "clf = GridSearchCV(xgb_model, parameters, scoring = 'explained_variance', verbose=3, n_jobs=2, cv = 10)\n",
    "\n",
    "clf.fit(X_train.to_numpy(), Y_train.to_numpy())"
   ]
  },
  {
   "cell_type": "code",
   "execution_count": 118,
   "metadata": {},
   "outputs": [
    {
     "name": "stdout",
     "output_type": "stream",
     "text": [
      "Best parameters set found on development set:\n",
      "\n",
      "{'early_stopping_rounds': 10, 'learning_rate': 0.1, 'max_depth': 2, 'n_estimators': 100}\n",
      "\n",
      "Grid scores on development set:\n",
      "\n",
      "0.025 (+/-0.002) for {'early_stopping_rounds': 10, 'learning_rate': 0.001, 'max_depth': 1, 'n_estimators': 20}\n",
      "0.060 (+/-0.006) for {'early_stopping_rounds': 10, 'learning_rate': 0.001, 'max_depth': 1, 'n_estimators': 50}\n",
      "0.115 (+/-0.011) for {'early_stopping_rounds': 10, 'learning_rate': 0.001, 'max_depth': 1, 'n_estimators': 100}\n",
      "0.164 (+/-0.014) for {'early_stopping_rounds': 10, 'learning_rate': 0.001, 'max_depth': 1, 'n_estimators': 150}\n",
      "0.034 (+/-0.001) for {'early_stopping_rounds': 10, 'learning_rate': 0.001, 'max_depth': 2, 'n_estimators': 20}\n",
      "0.083 (+/-0.002) for {'early_stopping_rounds': 10, 'learning_rate': 0.001, 'max_depth': 2, 'n_estimators': 50}\n",
      "0.159 (+/-0.004) for {'early_stopping_rounds': 10, 'learning_rate': 0.001, 'max_depth': 2, 'n_estimators': 100}\n",
      "0.227 (+/-0.005) for {'early_stopping_rounds': 10, 'learning_rate': 0.001, 'max_depth': 2, 'n_estimators': 150}\n",
      "0.036 (+/-0.000) for {'early_stopping_rounds': 10, 'learning_rate': 0.001, 'max_depth': 3, 'n_estimators': 20}\n",
      "0.087 (+/-0.001) for {'early_stopping_rounds': 10, 'learning_rate': 0.001, 'max_depth': 3, 'n_estimators': 50}\n",
      "0.167 (+/-0.002) for {'early_stopping_rounds': 10, 'learning_rate': 0.001, 'max_depth': 3, 'n_estimators': 100}\n",
      "0.238 (+/-0.003) for {'early_stopping_rounds': 10, 'learning_rate': 0.001, 'max_depth': 3, 'n_estimators': 150}\n",
      "0.036 (+/-0.000) for {'early_stopping_rounds': 10, 'learning_rate': 0.001, 'max_depth': 4, 'n_estimators': 20}\n",
      "0.088 (+/-0.001) for {'early_stopping_rounds': 10, 'learning_rate': 0.001, 'max_depth': 4, 'n_estimators': 50}\n",
      "0.168 (+/-0.002) for {'early_stopping_rounds': 10, 'learning_rate': 0.001, 'max_depth': 4, 'n_estimators': 100}\n",
      "0.240 (+/-0.003) for {'early_stopping_rounds': 10, 'learning_rate': 0.001, 'max_depth': 4, 'n_estimators': 150}\n",
      "0.036 (+/-0.000) for {'early_stopping_rounds': 10, 'learning_rate': 0.001, 'max_depth': 5, 'n_estimators': 20}\n",
      "0.088 (+/-0.001) for {'early_stopping_rounds': 10, 'learning_rate': 0.001, 'max_depth': 5, 'n_estimators': 50}\n",
      "0.168 (+/-0.002) for {'early_stopping_rounds': 10, 'learning_rate': 0.001, 'max_depth': 5, 'n_estimators': 100}\n",
      "0.240 (+/-0.003) for {'early_stopping_rounds': 10, 'learning_rate': 0.001, 'max_depth': 5, 'n_estimators': 150}\n",
      "0.036 (+/-0.001) for {'early_stopping_rounds': 10, 'learning_rate': 0.001, 'max_depth': 10, 'n_estimators': 20}\n",
      "0.088 (+/-0.001) for {'early_stopping_rounds': 10, 'learning_rate': 0.001, 'max_depth': 10, 'n_estimators': 50}\n",
      "0.168 (+/-0.002) for {'early_stopping_rounds': 10, 'learning_rate': 0.001, 'max_depth': 10, 'n_estimators': 100}\n",
      "0.240 (+/-0.003) for {'early_stopping_rounds': 10, 'learning_rate': 0.001, 'max_depth': 10, 'n_estimators': 150}\n",
      "0.115 (+/-0.011) for {'early_stopping_rounds': 10, 'learning_rate': 0.005, 'max_depth': 1, 'n_estimators': 20}\n",
      "0.253 (+/-0.019) for {'early_stopping_rounds': 10, 'learning_rate': 0.005, 'max_depth': 1, 'n_estimators': 50}\n",
      "0.426 (+/-0.024) for {'early_stopping_rounds': 10, 'learning_rate': 0.005, 'max_depth': 1, 'n_estimators': 100}\n",
      "0.550 (+/-0.023) for {'early_stopping_rounds': 10, 'learning_rate': 0.005, 'max_depth': 1, 'n_estimators': 150}\n",
      "0.159 (+/-0.004) for {'early_stopping_rounds': 10, 'learning_rate': 0.005, 'max_depth': 2, 'n_estimators': 20}\n",
      "0.345 (+/-0.008) for {'early_stopping_rounds': 10, 'learning_rate': 0.005, 'max_depth': 2, 'n_estimators': 50}\n",
      "0.561 (+/-0.010) for {'early_stopping_rounds': 10, 'learning_rate': 0.005, 'max_depth': 2, 'n_estimators': 100}\n",
      "0.697 (+/-0.008) for {'early_stopping_rounds': 10, 'learning_rate': 0.005, 'max_depth': 2, 'n_estimators': 150}\n",
      "0.167 (+/-0.002) for {'early_stopping_rounds': 10, 'learning_rate': 0.005, 'max_depth': 3, 'n_estimators': 20}\n",
      "0.362 (+/-0.004) for {'early_stopping_rounds': 10, 'learning_rate': 0.005, 'max_depth': 3, 'n_estimators': 50}\n",
      "0.583 (+/-0.006) for {'early_stopping_rounds': 10, 'learning_rate': 0.005, 'max_depth': 3, 'n_estimators': 100}\n",
      "0.719 (+/-0.008) for {'early_stopping_rounds': 10, 'learning_rate': 0.005, 'max_depth': 3, 'n_estimators': 150}\n",
      "0.168 (+/-0.002) for {'early_stopping_rounds': 10, 'learning_rate': 0.005, 'max_depth': 4, 'n_estimators': 20}\n",
      "0.365 (+/-0.004) for {'early_stopping_rounds': 10, 'learning_rate': 0.005, 'max_depth': 4, 'n_estimators': 50}\n",
      "0.588 (+/-0.006) for {'early_stopping_rounds': 10, 'learning_rate': 0.005, 'max_depth': 4, 'n_estimators': 100}\n",
      "0.723 (+/-0.007) for {'early_stopping_rounds': 10, 'learning_rate': 0.005, 'max_depth': 4, 'n_estimators': 150}\n",
      "0.168 (+/-0.002) for {'early_stopping_rounds': 10, 'learning_rate': 0.005, 'max_depth': 5, 'n_estimators': 20}\n",
      "0.365 (+/-0.004) for {'early_stopping_rounds': 10, 'learning_rate': 0.005, 'max_depth': 5, 'n_estimators': 50}\n",
      "0.588 (+/-0.005) for {'early_stopping_rounds': 10, 'learning_rate': 0.005, 'max_depth': 5, 'n_estimators': 100}\n",
      "0.723 (+/-0.006) for {'early_stopping_rounds': 10, 'learning_rate': 0.005, 'max_depth': 5, 'n_estimators': 150}\n",
      "0.168 (+/-0.002) for {'early_stopping_rounds': 10, 'learning_rate': 0.005, 'max_depth': 10, 'n_estimators': 20}\n",
      "0.366 (+/-0.004) for {'early_stopping_rounds': 10, 'learning_rate': 0.005, 'max_depth': 10, 'n_estimators': 50}\n",
      "0.588 (+/-0.006) for {'early_stopping_rounds': 10, 'learning_rate': 0.005, 'max_depth': 10, 'n_estimators': 100}\n",
      "0.724 (+/-0.007) for {'early_stopping_rounds': 10, 'learning_rate': 0.005, 'max_depth': 10, 'n_estimators': 150}\n",
      "0.839 (+/-0.014) for {'early_stopping_rounds': 10, 'learning_rate': 0.1, 'max_depth': 1, 'n_estimators': 20}\n",
      "0.929 (+/-0.009) for {'early_stopping_rounds': 10, 'learning_rate': 0.1, 'max_depth': 1, 'n_estimators': 50}\n",
      "0.938 (+/-0.010) for {'early_stopping_rounds': 10, 'learning_rate': 0.1, 'max_depth': 1, 'n_estimators': 100}\n",
      "0.940 (+/-0.011) for {'early_stopping_rounds': 10, 'learning_rate': 0.1, 'max_depth': 1, 'n_estimators': 150}\n",
      "0.913 (+/-0.009) for {'early_stopping_rounds': 10, 'learning_rate': 0.1, 'max_depth': 2, 'n_estimators': 20}\n",
      "0.940 (+/-0.010) for {'early_stopping_rounds': 10, 'learning_rate': 0.1, 'max_depth': 2, 'n_estimators': 50}\n",
      "0.942 (+/-0.011) for {'early_stopping_rounds': 10, 'learning_rate': 0.1, 'max_depth': 2, 'n_estimators': 100}\n",
      "0.942 (+/-0.010) for {'early_stopping_rounds': 10, 'learning_rate': 0.1, 'max_depth': 2, 'n_estimators': 150}\n",
      "0.921 (+/-0.009) for {'early_stopping_rounds': 10, 'learning_rate': 0.1, 'max_depth': 3, 'n_estimators': 20}\n",
      "0.941 (+/-0.011) for {'early_stopping_rounds': 10, 'learning_rate': 0.1, 'max_depth': 3, 'n_estimators': 50}\n",
      "0.942 (+/-0.010) for {'early_stopping_rounds': 10, 'learning_rate': 0.1, 'max_depth': 3, 'n_estimators': 100}\n",
      "0.942 (+/-0.011) for {'early_stopping_rounds': 10, 'learning_rate': 0.1, 'max_depth': 3, 'n_estimators': 150}\n",
      "0.923 (+/-0.011) for {'early_stopping_rounds': 10, 'learning_rate': 0.1, 'max_depth': 4, 'n_estimators': 20}\n",
      "0.942 (+/-0.011) for {'early_stopping_rounds': 10, 'learning_rate': 0.1, 'max_depth': 4, 'n_estimators': 50}\n",
      "0.942 (+/-0.011) for {'early_stopping_rounds': 10, 'learning_rate': 0.1, 'max_depth': 4, 'n_estimators': 100}\n",
      "0.941 (+/-0.010) for {'early_stopping_rounds': 10, 'learning_rate': 0.1, 'max_depth': 4, 'n_estimators': 150}\n",
      "0.923 (+/-0.009) for {'early_stopping_rounds': 10, 'learning_rate': 0.1, 'max_depth': 5, 'n_estimators': 20}\n",
      "0.941 (+/-0.011) for {'early_stopping_rounds': 10, 'learning_rate': 0.1, 'max_depth': 5, 'n_estimators': 50}\n",
      "0.940 (+/-0.010) for {'early_stopping_rounds': 10, 'learning_rate': 0.1, 'max_depth': 5, 'n_estimators': 100}\n",
      "0.940 (+/-0.010) for {'early_stopping_rounds': 10, 'learning_rate': 0.1, 'max_depth': 5, 'n_estimators': 150}\n",
      "0.921 (+/-0.010) for {'early_stopping_rounds': 10, 'learning_rate': 0.1, 'max_depth': 10, 'n_estimators': 20}\n",
      "0.933 (+/-0.011) for {'early_stopping_rounds': 10, 'learning_rate': 0.1, 'max_depth': 10, 'n_estimators': 50}\n",
      "0.931 (+/-0.011) for {'early_stopping_rounds': 10, 'learning_rate': 0.1, 'max_depth': 10, 'n_estimators': 100}\n",
      "0.929 (+/-0.011) for {'early_stopping_rounds': 10, 'learning_rate': 0.1, 'max_depth': 10, 'n_estimators': 150}\n",
      "0.929 (+/-0.010) for {'early_stopping_rounds': 10, 'learning_rate': 0.3, 'max_depth': 1, 'n_estimators': 20}\n",
      "0.936 (+/-0.012) for {'early_stopping_rounds': 10, 'learning_rate': 0.3, 'max_depth': 1, 'n_estimators': 50}\n",
      "0.938 (+/-0.013) for {'early_stopping_rounds': 10, 'learning_rate': 0.3, 'max_depth': 1, 'n_estimators': 100}\n",
      "0.939 (+/-0.013) for {'early_stopping_rounds': 10, 'learning_rate': 0.3, 'max_depth': 1, 'n_estimators': 150}\n",
      "0.940 (+/-0.010) for {'early_stopping_rounds': 10, 'learning_rate': 0.3, 'max_depth': 2, 'n_estimators': 20}\n",
      "0.942 (+/-0.011) for {'early_stopping_rounds': 10, 'learning_rate': 0.3, 'max_depth': 2, 'n_estimators': 50}\n",
      "0.941 (+/-0.011) for {'early_stopping_rounds': 10, 'learning_rate': 0.3, 'max_depth': 2, 'n_estimators': 100}\n",
      "0.940 (+/-0.011) for {'early_stopping_rounds': 10, 'learning_rate': 0.3, 'max_depth': 2, 'n_estimators': 150}\n",
      "0.942 (+/-0.011) for {'early_stopping_rounds': 10, 'learning_rate': 0.3, 'max_depth': 3, 'n_estimators': 20}\n",
      "0.942 (+/-0.011) for {'early_stopping_rounds': 10, 'learning_rate': 0.3, 'max_depth': 3, 'n_estimators': 50}\n",
      "0.940 (+/-0.011) for {'early_stopping_rounds': 10, 'learning_rate': 0.3, 'max_depth': 3, 'n_estimators': 100}\n",
      "0.939 (+/-0.011) for {'early_stopping_rounds': 10, 'learning_rate': 0.3, 'max_depth': 3, 'n_estimators': 150}\n",
      "0.941 (+/-0.011) for {'early_stopping_rounds': 10, 'learning_rate': 0.3, 'max_depth': 4, 'n_estimators': 20}\n",
      "0.940 (+/-0.010) for {'early_stopping_rounds': 10, 'learning_rate': 0.3, 'max_depth': 4, 'n_estimators': 50}\n",
      "0.938 (+/-0.009) for {'early_stopping_rounds': 10, 'learning_rate': 0.3, 'max_depth': 4, 'n_estimators': 100}\n",
      "0.936 (+/-0.009) for {'early_stopping_rounds': 10, 'learning_rate': 0.3, 'max_depth': 4, 'n_estimators': 150}\n",
      "0.938 (+/-0.012) for {'early_stopping_rounds': 10, 'learning_rate': 0.3, 'max_depth': 5, 'n_estimators': 20}\n",
      "0.937 (+/-0.012) for {'early_stopping_rounds': 10, 'learning_rate': 0.3, 'max_depth': 5, 'n_estimators': 50}\n",
      "0.935 (+/-0.011) for {'early_stopping_rounds': 10, 'learning_rate': 0.3, 'max_depth': 5, 'n_estimators': 100}\n",
      "0.932 (+/-0.012) for {'early_stopping_rounds': 10, 'learning_rate': 0.3, 'max_depth': 5, 'n_estimators': 150}\n",
      "0.930 (+/-0.013) for {'early_stopping_rounds': 10, 'learning_rate': 0.3, 'max_depth': 10, 'n_estimators': 20}\n",
      "0.926 (+/-0.012) for {'early_stopping_rounds': 10, 'learning_rate': 0.3, 'max_depth': 10, 'n_estimators': 50}\n",
      "0.924 (+/-0.012) for {'early_stopping_rounds': 10, 'learning_rate': 0.3, 'max_depth': 10, 'n_estimators': 100}\n",
      "0.923 (+/-0.012) for {'early_stopping_rounds': 10, 'learning_rate': 0.3, 'max_depth': 10, 'n_estimators': 150}\n",
      "0.930 (+/-0.010) for {'early_stopping_rounds': 10, 'learning_rate': 0.4, 'max_depth': 1, 'n_estimators': 20}\n",
      "0.936 (+/-0.010) for {'early_stopping_rounds': 10, 'learning_rate': 0.4, 'max_depth': 1, 'n_estimators': 50}\n",
      "0.938 (+/-0.010) for {'early_stopping_rounds': 10, 'learning_rate': 0.4, 'max_depth': 1, 'n_estimators': 100}\n",
      "0.939 (+/-0.010) for {'early_stopping_rounds': 10, 'learning_rate': 0.4, 'max_depth': 1, 'n_estimators': 150}\n",
      "0.940 (+/-0.012) for {'early_stopping_rounds': 10, 'learning_rate': 0.4, 'max_depth': 2, 'n_estimators': 20}\n",
      "0.940 (+/-0.012) for {'early_stopping_rounds': 10, 'learning_rate': 0.4, 'max_depth': 2, 'n_estimators': 50}\n",
      "0.940 (+/-0.011) for {'early_stopping_rounds': 10, 'learning_rate': 0.4, 'max_depth': 2, 'n_estimators': 100}\n",
      "0.939 (+/-0.012) for {'early_stopping_rounds': 10, 'learning_rate': 0.4, 'max_depth': 2, 'n_estimators': 150}\n",
      "0.942 (+/-0.012) for {'early_stopping_rounds': 10, 'learning_rate': 0.4, 'max_depth': 3, 'n_estimators': 20}\n",
      "0.941 (+/-0.013) for {'early_stopping_rounds': 10, 'learning_rate': 0.4, 'max_depth': 3, 'n_estimators': 50}\n",
      "0.939 (+/-0.014) for {'early_stopping_rounds': 10, 'learning_rate': 0.4, 'max_depth': 3, 'n_estimators': 100}\n",
      "0.937 (+/-0.014) for {'early_stopping_rounds': 10, 'learning_rate': 0.4, 'max_depth': 3, 'n_estimators': 150}\n",
      "0.941 (+/-0.010) for {'early_stopping_rounds': 10, 'learning_rate': 0.4, 'max_depth': 4, 'n_estimators': 20}\n",
      "0.939 (+/-0.009) for {'early_stopping_rounds': 10, 'learning_rate': 0.4, 'max_depth': 4, 'n_estimators': 50}\n",
      "0.936 (+/-0.009) for {'early_stopping_rounds': 10, 'learning_rate': 0.4, 'max_depth': 4, 'n_estimators': 100}\n",
      "0.934 (+/-0.008) for {'early_stopping_rounds': 10, 'learning_rate': 0.4, 'max_depth': 4, 'n_estimators': 150}\n",
      "0.938 (+/-0.011) for {'early_stopping_rounds': 10, 'learning_rate': 0.4, 'max_depth': 5, 'n_estimators': 20}\n",
      "0.935 (+/-0.011) for {'early_stopping_rounds': 10, 'learning_rate': 0.4, 'max_depth': 5, 'n_estimators': 50}\n",
      "0.932 (+/-0.010) for {'early_stopping_rounds': 10, 'learning_rate': 0.4, 'max_depth': 5, 'n_estimators': 100}\n",
      "0.929 (+/-0.012) for {'early_stopping_rounds': 10, 'learning_rate': 0.4, 'max_depth': 5, 'n_estimators': 150}\n",
      "0.929 (+/-0.012) for {'early_stopping_rounds': 10, 'learning_rate': 0.4, 'max_depth': 10, 'n_estimators': 20}\n",
      "0.925 (+/-0.012) for {'early_stopping_rounds': 10, 'learning_rate': 0.4, 'max_depth': 10, 'n_estimators': 50}\n",
      "0.924 (+/-0.012) for {'early_stopping_rounds': 10, 'learning_rate': 0.4, 'max_depth': 10, 'n_estimators': 100}\n",
      "0.923 (+/-0.012) for {'early_stopping_rounds': 10, 'learning_rate': 0.4, 'max_depth': 10, 'n_estimators': 150}\n",
      "0.921 (+/-0.012) for {'early_stopping_rounds': 10, 'learning_rate': 0.8, 'max_depth': 1, 'n_estimators': 20}\n",
      "0.931 (+/-0.012) for {'early_stopping_rounds': 10, 'learning_rate': 0.8, 'max_depth': 1, 'n_estimators': 50}\n",
      "0.935 (+/-0.012) for {'early_stopping_rounds': 10, 'learning_rate': 0.8, 'max_depth': 1, 'n_estimators': 100}\n",
      "0.937 (+/-0.011) for {'early_stopping_rounds': 10, 'learning_rate': 0.8, 'max_depth': 1, 'n_estimators': 150}\n",
      "0.939 (+/-0.013) for {'early_stopping_rounds': 10, 'learning_rate': 0.8, 'max_depth': 2, 'n_estimators': 20}\n",
      "0.938 (+/-0.012) for {'early_stopping_rounds': 10, 'learning_rate': 0.8, 'max_depth': 2, 'n_estimators': 50}\n",
      "0.936 (+/-0.013) for {'early_stopping_rounds': 10, 'learning_rate': 0.8, 'max_depth': 2, 'n_estimators': 100}\n",
      "0.934 (+/-0.015) for {'early_stopping_rounds': 10, 'learning_rate': 0.8, 'max_depth': 2, 'n_estimators': 150}\n",
      "0.937 (+/-0.011) for {'early_stopping_rounds': 10, 'learning_rate': 0.8, 'max_depth': 3, 'n_estimators': 20}\n",
      "0.933 (+/-0.011) for {'early_stopping_rounds': 10, 'learning_rate': 0.8, 'max_depth': 3, 'n_estimators': 50}\n",
      "0.931 (+/-0.010) for {'early_stopping_rounds': 10, 'learning_rate': 0.8, 'max_depth': 3, 'n_estimators': 100}\n",
      "0.928 (+/-0.012) for {'early_stopping_rounds': 10, 'learning_rate': 0.8, 'max_depth': 3, 'n_estimators': 150}\n",
      "0.934 (+/-0.009) for {'early_stopping_rounds': 10, 'learning_rate': 0.8, 'max_depth': 4, 'n_estimators': 20}\n",
      "0.929 (+/-0.011) for {'early_stopping_rounds': 10, 'learning_rate': 0.8, 'max_depth': 4, 'n_estimators': 50}\n",
      "0.925 (+/-0.011) for {'early_stopping_rounds': 10, 'learning_rate': 0.8, 'max_depth': 4, 'n_estimators': 100}\n",
      "0.921 (+/-0.012) for {'early_stopping_rounds': 10, 'learning_rate': 0.8, 'max_depth': 4, 'n_estimators': 150}\n",
      "0.930 (+/-0.016) for {'early_stopping_rounds': 10, 'learning_rate': 0.8, 'max_depth': 5, 'n_estimators': 20}\n",
      "0.923 (+/-0.017) for {'early_stopping_rounds': 10, 'learning_rate': 0.8, 'max_depth': 5, 'n_estimators': 50}\n",
      "0.919 (+/-0.017) for {'early_stopping_rounds': 10, 'learning_rate': 0.8, 'max_depth': 5, 'n_estimators': 100}\n",
      "0.916 (+/-0.018) for {'early_stopping_rounds': 10, 'learning_rate': 0.8, 'max_depth': 5, 'n_estimators': 150}\n",
      "0.912 (+/-0.012) for {'early_stopping_rounds': 10, 'learning_rate': 0.8, 'max_depth': 10, 'n_estimators': 20}\n",
      "0.910 (+/-0.013) for {'early_stopping_rounds': 10, 'learning_rate': 0.8, 'max_depth': 10, 'n_estimators': 50}\n",
      "0.910 (+/-0.013) for {'early_stopping_rounds': 10, 'learning_rate': 0.8, 'max_depth': 10, 'n_estimators': 100}\n",
      "0.910 (+/-0.013) for {'early_stopping_rounds': 10, 'learning_rate': 0.8, 'max_depth': 10, 'n_estimators': 150}\n"
     ]
    }
   ],
   "source": [
    "\n",
    "\n",
    "print(\"Best parameters set found on development set:\")\n",
    "print()\n",
    "print(clf.best_params_)\n",
    "print()\n",
    "print(\"Grid scores on development set:\")\n",
    "print()\n",
    "means = clf.cv_results_['mean_test_score']\n",
    "stds = clf.cv_results_['std_test_score']\n",
    "for mean, std, params in zip(means, stds, clf.cv_results_['params']):\n",
    "    print(\"%0.3f (+/-%0.03f) for %r\"\n",
    "            % (mean, std * 2, params))"
   ]
  },
  {
   "cell_type": "markdown",
   "metadata": {},
   "source": [
    "## CHECK MANUALLY"
   ]
  },
  {
   "cell_type": "code",
   "execution_count": 315,
   "metadata": {},
   "outputs": [],
   "source": [
    "X = X_test.iloc[0].copy()"
   ]
  },
  {
   "cell_type": "code",
   "execution_count": 316,
   "metadata": {},
   "outputs": [
    {
     "data": {
      "text/plain": [
       "pandas.core.series.Series"
      ]
     },
     "execution_count": 316,
     "metadata": {},
     "output_type": "execute_result"
    }
   ],
   "source": [
    "type(X)"
   ]
  },
  {
   "cell_type": "code",
   "execution_count": 317,
   "metadata": {},
   "outputs": [
    {
     "data": {
      "text/plain": [
       "model_iphone_11                        0.000000\n",
       "model_iphone_11_pro                    0.000000\n",
       "model_iphone_11_pro_max                0.000000\n",
       "model_iphone_5                         0.000000\n",
       "model_iphone_5c                        0.000000\n",
       "model_iphone_5s                        0.000000\n",
       "model_iphone_6                         0.000000\n",
       "model_iphone_6_plus                    0.000000\n",
       "model_iphone_6s                        0.000000\n",
       "model_iphone_6s_plus                   0.000000\n",
       "model_iphone_7                         1.000000\n",
       "model_iphone_7_plus                    0.000000\n",
       "model_iphone_8                         0.000000\n",
       "model_iphone_8_plus                    0.000000\n",
       "model_iphone_se                        0.000000\n",
       "model_iphone_se_2                      0.000000\n",
       "model_iphone_x                         0.000000\n",
       "model_iphone_xr                        0.000000\n",
       "model_iphone_xs                        0.000000\n",
       "model_iphone_xs_max                    0.000000\n",
       "color_blau                             0.000000\n",
       "color_gelb                             0.000000\n",
       "color_gold                             0.000000\n",
       "color_grau                             0.000000\n",
       "color_grun                             0.000000\n",
       "color_lila                             0.000000\n",
       "color_orange                           0.000000\n",
       "color_other                            0.000000\n",
       "color_rosa                             0.000000\n",
       "color_rosagold                         0.000000\n",
       "color_rot                              0.000000\n",
       "color_schwarz                          1.000000\n",
       "color_silber                           0.000000\n",
       "color_spacegrau                        0.000000\n",
       "color_weiss                            0.000000\n",
       "memory_128GB                           1.000000\n",
       "memory_16GB                            0.000000\n",
       "memory_256GB                           0.000000\n",
       "memory_32GB                            0.000000\n",
       "memory_512GB                           0.000000\n",
       "memory_64GB                            0.000000\n",
       "no_feedback_yet                        0.000000\n",
       "very_good_condition                    0.000000\n",
       "very_bad_condition                     0.000000\n",
       "shipping_cost                          4.990000\n",
       "number_of_reviews                    537.000000\n",
       "selers_feedback                      100.000000\n",
       "listing_was_active_before_closure      7.000000\n",
       "return_policy_buyer_pays               0.000000\n",
       "return_policy_no_return                1.000000\n",
       "mean_price                           123.738662\n",
       "Name: 443, dtype: float64"
      ]
     },
     "execution_count": 317,
     "metadata": {},
     "output_type": "execute_result"
    }
   ],
   "source": [
    "X"
   ]
  },
  {
   "cell_type": "code",
   "execution_count": 280,
   "metadata": {},
   "outputs": [],
   "source": [
    "X.listing_was_active_before_closure = 5"
   ]
  },
  {
   "cell_type": "code",
   "execution_count": 326,
   "metadata": {},
   "outputs": [
    {
     "data": {
      "text/plain": [
       "array([  0.        ,   0.        ,   0.        ,   0.        ,\n",
       "         0.        ,   0.        ,   0.        ,   0.        ,\n",
       "         0.        ,   0.        ,   1.        ,   0.        ,\n",
       "         0.        ,   0.        ,   0.        ,   0.        ,\n",
       "         0.        ,   0.        ,   0.        ,   0.        ,\n",
       "         0.        ,   0.        ,   0.        ,   0.        ,\n",
       "         0.        ,   0.        ,   0.        ,   0.        ,\n",
       "         0.        ,   0.        ,   0.        ,   1.        ,\n",
       "         0.        ,   0.        ,   0.        ,   1.        ,\n",
       "         0.        ,   0.        ,   0.        ,   0.        ,\n",
       "         0.        ,   0.        ,   0.        ,   0.        ,\n",
       "         4.99      , 537.        , 100.        ,   7.        ,\n",
       "         0.        ,   1.        , 123.73866242])"
      ]
     },
     "execution_count": 326,
     "metadata": {},
     "output_type": "execute_result"
    }
   ],
   "source": [
    "X.to_numpy()"
   ]
  },
  {
   "cell_type": "code",
   "execution_count": 327,
   "metadata": {},
   "outputs": [
    {
     "data": {
      "text/plain": [
       "108.578514"
      ]
     },
     "execution_count": 327,
     "metadata": {},
     "output_type": "execute_result"
    }
   ],
   "source": [
    "model.predict(np.array([X]))[0]"
   ]
  },
  {
   "cell_type": "code",
   "execution_count": 275,
   "metadata": {},
   "outputs": [],
   "source": [
    "X.listing_was_active_before_closure = 6"
   ]
  },
  {
   "cell_type": "code",
   "execution_count": 251,
   "metadata": {},
   "outputs": [],
   "source": [
    "X.shipping_cost = 4.55"
   ]
  },
  {
   "cell_type": "code",
   "execution_count": 252,
   "metadata": {},
   "outputs": [],
   "source": [
    "X.very_good_condition = 0"
   ]
  },
  {
   "cell_type": "code",
   "execution_count": 253,
   "metadata": {},
   "outputs": [],
   "source": [
    "X.very_bad_condition = 0"
   ]
  },
  {
   "cell_type": "code",
   "execution_count": 254,
   "metadata": {},
   "outputs": [],
   "source": [
    "X.no_feedback_yet = 0"
   ]
  },
  {
   "cell_type": "code",
   "execution_count": 255,
   "metadata": {},
   "outputs": [],
   "source": [
    "X.selers_feedback = 100"
   ]
  },
  {
   "cell_type": "code",
   "execution_count": 256,
   "metadata": {},
   "outputs": [],
   "source": [
    "X.number_of_reviews = 40"
   ]
  },
  {
   "cell_type": "code",
   "execution_count": 263,
   "metadata": {},
   "outputs": [],
   "source": [
    "X.return_policy_no_return = 0"
   ]
  },
  {
   "cell_type": "code",
   "execution_count": 264,
   "metadata": {},
   "outputs": [],
   "source": [
    "X.return_policy_buyer_pays = 1"
   ]
  },
  {
   "cell_type": "code",
   "execution_count": 328,
   "metadata": {},
   "outputs": [],
   "source": [
    "results = []\n",
    "X_axis = []"
   ]
  },
  {
   "cell_type": "code",
   "execution_count": 329,
   "metadata": {},
   "outputs": [
    {
     "name": "stdout",
     "output_type": "stream",
     "text": [
      "119.89558\n",
      "119.89558\n",
      "119.89558\n",
      "119.29621\n",
      "119.29621\n",
      "119.29621\n",
      "119.29621\n",
      "108.578514\n",
      "119.437004\n",
      "119.437004\n",
      "119.437004\n",
      "122.13986\n",
      "122.13986\n",
      "122.13986\n",
      "122.13986\n",
      "122.13986\n",
      "122.13986\n",
      "122.13986\n",
      "122.13986\n",
      "122.13986\n",
      "122.13986\n",
      "125.31351\n",
      "125.31351\n",
      "125.31351\n",
      "129.38379\n",
      "137.71405\n",
      "145.462\n",
      "145.462\n",
      "152.32455\n",
      "152.32455\n",
      "160.97076\n",
      "160.97076\n",
      "160.97076\n",
      "160.97076\n",
      "160.97076\n"
     ]
    }
   ],
   "source": [
    "for i in range(35):\n",
    "    X.listing_was_active_before_closure = i\n",
    "    res = model.predict(np.array([X]))[0]\n",
    "    X_axis.append(i)\n",
    "    print(res)\n",
    "    results.append(res)"
   ]
  },
  {
   "cell_type": "code",
   "execution_count": 182,
   "metadata": {},
   "outputs": [
    {
     "data": {
      "text/plain": [
       "65"
      ]
     },
     "execution_count": 182,
     "metadata": {},
     "output_type": "execute_result"
    }
   ],
   "source": [
    "len(results)"
   ]
  },
  {
   "cell_type": "code",
   "execution_count": 287,
   "metadata": {},
   "outputs": [
    {
     "data": {
      "text/plain": [
       "<matplotlib.axes._subplots.AxesSubplot at 0x7fd6f371e3c8>"
      ]
     },
     "execution_count": 287,
     "metadata": {},
     "output_type": "execute_result"
    },
    {
     "data": {
      "image/png": "[encoded data removed]",
      "text/plain": [
       "<Figure size 432x288 with 1 Axes>"
      ]
     },
     "metadata": {
      "needs_background": "light"
     },
     "output_type": "display_data"
    }
   ],
   "source": [
    "pd.value_counts(X_train.loc[X_train.model_iphone_xs == 1, 'listing_was_active_before_closure']).plot.bar()"
   ]
  },
  {
   "cell_type": "code",
   "execution_count": 285,
   "metadata": {},
   "outputs": [
    {
     "data": {
      "text/plain": [
       "5.2679245283018865"
      ]
     },
     "execution_count": 285,
     "metadata": {},
     "output_type": "execute_result"
    }
   ],
   "source": [
    "X_train.loc[X_train.model_iphone_6 == 1, 'listing_was_active_before_closure'].mean()"
   ]
  },
  {
   "cell_type": "code",
   "execution_count": 336,
   "metadata": {},
   "outputs": [
    {
     "data": {
      "text/plain": [
       "5.0"
      ]
     },
     "execution_count": 336,
     "metadata": {},
     "output_type": "execute_result"
    }
   ],
   "source": [
    "X_train.loc[X_train.model_iphone_6 == 1, 'listing_was_active_before_closure'].median()"
   ]
  },
  {
   "cell_type": "code",
   "execution_count": 286,
   "metadata": {},
   "outputs": [
    {
     "data": {
      "text/plain": [
       "[<matplotlib.lines.Line2D at 0x7fd6f3760b70>]"
      ]
     },
     "execution_count": 286,
     "metadata": {},
     "output_type": "execute_result"
    },
    {
     "data": {
      "image/png": "[encoded data removed]",
      "text/plain": [
       "<Figure size 432x288 with 1 Axes>"
      ]
     },
     "metadata": {
      "needs_background": "light"
     },
     "output_type": "display_data"
    }
   ],
   "source": [
    "plt.plot(X_axis, results) "
   ]
  },
  {
   "cell_type": "code",
   "execution_count": 171,
   "metadata": {},
   "outputs": [],
   "source": [
    "X_axis = range(30)"
   ]
  },
  {
   "cell_type": "code",
   "execution_count": 172,
   "metadata": {},
   "outputs": [
    {
     "data": {
      "text/plain": [
       "range(0, 30)"
      ]
     },
     "execution_count": 172,
     "metadata": {},
     "output_type": "execute_result"
    }
   ],
   "source": [
    "X_axis"
   ]
  },
  {
   "cell_type": "code",
   "execution_count": 397,
   "metadata": {},
   "outputs": [],
   "source": [
    "#X_test = X_test.drop(['condition', 'title', 'very_good_condition', 'very_bad_condition'], axis=1)"
   ]
  },
  {
   "cell_type": "code",
   "execution_count": 162,
   "metadata": {},
   "outputs": [],
   "source": [
    "model = XGBClassifier(**params)"
   ]
  },
  {
   "cell_type": "code",
   "execution_count": 163,
   "metadata": {},
   "outputs": [],
   "source": [
    "eval_set = [(X_test.to_numpy(), Y_test.to_numpy())]"
   ]
  },
  {
   "cell_type": "code",
   "execution_count": 164,
   "metadata": {},
   "outputs": [
    {
     "name": "stdout",
     "output_type": "stream",
     "text": [
      "[0]\tvalidation_0-mlogloss:0.91953\n",
      "[1]\tvalidation_0-mlogloss:0.87399\n",
      "[2]\tvalidation_0-mlogloss:0.85535\n",
      "[3]\tvalidation_0-mlogloss:0.85092\n",
      "[4]\tvalidation_0-mlogloss:0.85067\n",
      "[5]\tvalidation_0-mlogloss:0.84959\n",
      "[6]\tvalidation_0-mlogloss:0.85498\n",
      "[7]\tvalidation_0-mlogloss:0.85700\n",
      "[8]\tvalidation_0-mlogloss:0.85895\n",
      "[9]\tvalidation_0-mlogloss:0.85886\n",
      "[10]\tvalidation_0-mlogloss:0.86458\n",
      "[11]\tvalidation_0-mlogloss:0.86676\n",
      "[12]\tvalidation_0-mlogloss:0.86895\n",
      "[13]\tvalidation_0-mlogloss:0.86912\n",
      "[14]\tvalidation_0-mlogloss:0.86872\n",
      "[15]\tvalidation_0-mlogloss:0.86923\n",
      "[16]\tvalidation_0-mlogloss:0.87074\n",
      "[17]\tvalidation_0-mlogloss:0.86291\n",
      "[18]\tvalidation_0-mlogloss:0.86628\n",
      "[19]\tvalidation_0-mlogloss:0.86222\n",
      "[20]\tvalidation_0-mlogloss:0.86435\n",
      "[21]\tvalidation_0-mlogloss:0.86597\n",
      "[22]\tvalidation_0-mlogloss:0.87201\n",
      "[23]\tvalidation_0-mlogloss:0.87147\n",
      "[24]\tvalidation_0-mlogloss:0.87202\n",
      "[25]\tvalidation_0-mlogloss:0.87405\n",
      "[26]\tvalidation_0-mlogloss:0.87077\n",
      "[27]\tvalidation_0-mlogloss:0.87192\n",
      "[28]\tvalidation_0-mlogloss:0.87321\n",
      "[29]\tvalidation_0-mlogloss:0.87497\n",
      "[30]\tvalidation_0-mlogloss:0.87728\n",
      "[31]\tvalidation_0-mlogloss:0.87903\n",
      "[32]\tvalidation_0-mlogloss:0.87444\n",
      "[33]\tvalidation_0-mlogloss:0.87418\n",
      "[34]\tvalidation_0-mlogloss:0.87569\n",
      "[35]\tvalidation_0-mlogloss:0.87788\n",
      "[36]\tvalidation_0-mlogloss:0.87796\n",
      "[37]\tvalidation_0-mlogloss:0.87825\n",
      "[38]\tvalidation_0-mlogloss:0.88228\n",
      "[39]\tvalidation_0-mlogloss:0.88837\n",
      "[40]\tvalidation_0-mlogloss:0.88842\n",
      "[41]\tvalidation_0-mlogloss:0.88842\n",
      "[42]\tvalidation_0-mlogloss:0.88957\n",
      "[43]\tvalidation_0-mlogloss:0.89287\n",
      "[44]\tvalidation_0-mlogloss:0.89551\n",
      "[45]\tvalidation_0-mlogloss:0.89701\n",
      "[46]\tvalidation_0-mlogloss:0.89799\n",
      "[47]\tvalidation_0-mlogloss:0.89720\n",
      "[48]\tvalidation_0-mlogloss:0.89942\n",
      "[49]\tvalidation_0-mlogloss:0.89990\n",
      "[50]\tvalidation_0-mlogloss:0.90482\n",
      "[51]\tvalidation_0-mlogloss:0.90382\n",
      "[52]\tvalidation_0-mlogloss:0.90311\n",
      "[53]\tvalidation_0-mlogloss:0.90244\n",
      "[54]\tvalidation_0-mlogloss:0.90455\n",
      "[55]\tvalidation_0-mlogloss:0.90230\n",
      "[56]\tvalidation_0-mlogloss:0.90413\n",
      "[57]\tvalidation_0-mlogloss:0.90410\n",
      "[58]\tvalidation_0-mlogloss:0.90610\n",
      "[59]\tvalidation_0-mlogloss:0.90918\n",
      "[60]\tvalidation_0-mlogloss:0.90985\n",
      "[61]\tvalidation_0-mlogloss:0.90911\n",
      "[62]\tvalidation_0-mlogloss:0.91110\n",
      "[63]\tvalidation_0-mlogloss:0.91225\n",
      "[64]\tvalidation_0-mlogloss:0.91372\n",
      "[65]\tvalidation_0-mlogloss:0.91819\n",
      "[66]\tvalidation_0-mlogloss:0.91668\n",
      "[67]\tvalidation_0-mlogloss:0.91474\n",
      "[68]\tvalidation_0-mlogloss:0.91717\n",
      "[69]\tvalidation_0-mlogloss:0.91490\n",
      "[70]\tvalidation_0-mlogloss:0.91879\n",
      "[71]\tvalidation_0-mlogloss:0.91620\n",
      "[72]\tvalidation_0-mlogloss:0.91809\n",
      "[73]\tvalidation_0-mlogloss:0.91917\n",
      "[74]\tvalidation_0-mlogloss:0.92093\n",
      "[75]\tvalidation_0-mlogloss:0.92299\n",
      "[76]\tvalidation_0-mlogloss:0.92626\n",
      "[77]\tvalidation_0-mlogloss:0.92886\n",
      "[78]\tvalidation_0-mlogloss:0.93415\n",
      "[79]\tvalidation_0-mlogloss:0.93397\n",
      "[80]\tvalidation_0-mlogloss:0.93584\n",
      "[81]\tvalidation_0-mlogloss:0.93856\n",
      "[82]\tvalidation_0-mlogloss:0.94237\n",
      "[83]\tvalidation_0-mlogloss:0.94196\n",
      "[84]\tvalidation_0-mlogloss:0.93934\n",
      "[85]\tvalidation_0-mlogloss:0.94069\n",
      "[86]\tvalidation_0-mlogloss:0.94152\n",
      "[87]\tvalidation_0-mlogloss:0.94434\n",
      "[88]\tvalidation_0-mlogloss:0.94245\n",
      "[89]\tvalidation_0-mlogloss:0.94581\n",
      "[90]\tvalidation_0-mlogloss:0.94729\n",
      "[91]\tvalidation_0-mlogloss:0.95093\n",
      "[92]\tvalidation_0-mlogloss:0.95241\n",
      "[93]\tvalidation_0-mlogloss:0.95022\n",
      "[94]\tvalidation_0-mlogloss:0.95293\n",
      "[95]\tvalidation_0-mlogloss:0.95605\n",
      "[96]\tvalidation_0-mlogloss:0.95766\n",
      "[97]\tvalidation_0-mlogloss:0.95687\n",
      "[98]\tvalidation_0-mlogloss:0.95853\n",
      "[99]\tvalidation_0-mlogloss:0.95749\n"
     ]
    },
    {
     "data": {
      "text/plain": [
       "XGBClassifier(base_score=None, booster=None, colsample_bylevel=1,\n",
       "              colsample_bynode=1, colsample_bytree=1, early_stopping_rounds=10,\n",
       "              gamma=0, gpu_id=-1, importance_type='gain',\n",
       "              interaction_constraints=None, learning_rate=0.8, max_delta_step=0,\n",
       "              max_depth=3, min_child_weight=1, missing=nan,\n",
       "              monotone_constraints=None, n_estimators=100, n_jobs=0,\n",
       "              num_parallel_tree=1, objective='multi:softprob', random_state=0,\n",
       "              reg_alpha=0, reg_lambda=1, scale_pos_weight=None, subsample=1,\n",
       "              tree_method=None, validate_parameters=False, verbose_eval=4,\n",
       "              verbosity=None)"
      ]
     },
     "execution_count": 164,
     "metadata": {},
     "output_type": "execute_result"
    }
   ],
   "source": [
    "model.fit(X_train.to_numpy(), Y_train.to_numpy(), eval_metric=\"mlogloss\", eval_set=eval_set, verbose=True)"
   ]
  },
  {
   "cell_type": "markdown",
   "metadata": {},
   "source": [
    "## Check feature importance"
   ]
  },
  {
   "cell_type": "code",
   "execution_count": 289,
   "metadata": {},
   "outputs": [],
   "source": [
    "columns = list(X_test)"
   ]
  },
  {
   "cell_type": "code",
   "execution_count": 113,
   "metadata": {},
   "outputs": [
    {
     "data": {
      "image/png": "[encoded data removed]",
      "text/plain": [
       "<Figure size 432x288 with 1 Axes>"
      ]
     },
     "metadata": {
      "needs_background": "light"
     },
     "output_type": "display_data"
    }
   ],
   "source": [
    "plt.bar(range(len(model.feature_importances_)), model.feature_importances_)\n",
    "plt.show()"
   ]
  },
  {
   "cell_type": "code",
   "execution_count": 114,
   "metadata": {},
   "outputs": [
    {
     "name": "stdout",
     "output_type": "stream",
     "text": [
      "[3.6310303e-04 2.2448502e-04 0.0000000e+00 0.0000000e+00 0.0000000e+00\n",
      " 0.0000000e+00 0.0000000e+00 0.0000000e+00 0.0000000e+00 1.1314582e-04\n",
      " 0.0000000e+00 0.0000000e+00 0.0000000e+00 1.3069425e-03 6.6854963e-03\n",
      " 0.0000000e+00 1.0810534e-02 2.2037786e-03 7.3426985e-03 6.1546536e-03\n",
      " 0.0000000e+00 0.0000000e+00 1.2047818e-03 2.3224438e-03 0.0000000e+00\n",
      " 0.0000000e+00 0.0000000e+00 0.0000000e+00 0.0000000e+00 0.0000000e+00\n",
      " 0.0000000e+00 1.7957317e-03 1.3436743e-03 0.0000000e+00 3.2531566e-03\n",
      " 1.6910894e-03 1.2093583e-04 7.7643362e-03 5.9137249e-04 0.0000000e+00\n",
      " 3.5388581e-03 8.9234598e-03 1.5268227e-02 8.0341585e-03 4.3294001e-03\n",
      " 4.7012344e-03 5.8587869e-03 1.1050189e-02 3.1657531e-03 0.0000000e+00\n",
      " 8.7983757e-01]\n",
      "model_iphone_11\n",
      "0.00036310303\n",
      "model_iphone_11_pro\n",
      "0.00022448502\n",
      "model_iphone_11_pro_max\n",
      "0.0\n",
      "model_iphone_5\n",
      "0.0\n",
      "model_iphone_5c\n",
      "0.0\n",
      "model_iphone_5s\n",
      "0.0\n",
      "model_iphone_6\n",
      "0.0\n",
      "model_iphone_6_plus\n",
      "0.0\n",
      "model_iphone_6s\n",
      "0.0\n",
      "model_iphone_6s_plus\n",
      "0.00011314582\n",
      "model_iphone_7\n",
      "0.0\n",
      "model_iphone_7_plus\n",
      "0.0\n",
      "model_iphone_8\n",
      "0.0\n",
      "model_iphone_8_plus\n",
      "0.0013069425\n",
      "model_iphone_se\n",
      "0.0066854963\n",
      "model_iphone_se_2\n",
      "0.0\n",
      "model_iphone_x\n",
      "0.010810534\n",
      "model_iphone_xr\n",
      "0.0022037786\n",
      "model_iphone_xs\n",
      "0.0073426985\n",
      "model_iphone_xs_max\n",
      "0.0061546536\n",
      "color_blau\n",
      "0.0\n",
      "color_gelb\n",
      "0.0\n",
      "color_gold\n",
      "0.0012047818\n",
      "color_grau\n",
      "0.0023224438\n",
      "color_grun\n",
      "0.0\n",
      "color_lila\n",
      "0.0\n",
      "color_orange\n",
      "0.0\n",
      "color_other\n",
      "0.0\n",
      "color_rosa\n",
      "0.0\n",
      "color_rosagold\n",
      "0.0\n",
      "color_rot\n",
      "0.0\n",
      "color_schwarz\n",
      "0.0017957317\n",
      "color_silber\n",
      "0.0013436743\n",
      "color_spacegrau\n",
      "0.0\n",
      "color_weiss\n",
      "0.0032531566\n",
      "memory_128GB\n",
      "0.0016910894\n",
      "memory_16GB\n",
      "0.00012093583\n",
      "memory_256GB\n",
      "0.007764336\n",
      "memory_32GB\n",
      "0.0005913725\n",
      "memory_512GB\n",
      "0.0\n",
      "memory_64GB\n",
      "0.0035388581\n",
      "no_feedback_yet\n",
      "0.00892346\n",
      "very_good_condition\n",
      "0.015268227\n",
      "very_bad_condition\n",
      "0.0080341585\n",
      "shipping_cost\n",
      "0.0043294\n",
      "number_of_reviews\n",
      "0.0047012344\n",
      "selers_feedback\n",
      "0.005858787\n",
      "listing_was_active_before_closure\n",
      "0.011050189\n",
      "return_policy_buyer_pays\n",
      "0.003165753\n",
      "return_policy_no_return\n",
      "0.0\n",
      "mean_price\n",
      "0.8798376\n"
     ]
    }
   ],
   "source": [
    "print(model.feature_importances_)\n",
    "for c in range(len(columns)):\n",
    "    print(columns[c])\n",
    "    print(model.feature_importances_[c])"
   ]
  },
  {
   "cell_type": "markdown",
   "metadata": {},
   "source": [
    "## SAVE MODEL ON DISK"
   ]
  },
  {
   "cell_type": "code",
   "execution_count": 291,
   "metadata": {},
   "outputs": [],
   "source": [
    "filename = 'finalized_model.sav'\n",
    "pickle.dump(model, open(filename, 'wb'))"
   ]
  },
  {
   "cell_type": "code",
   "execution_count": 292,
   "metadata": {},
   "outputs": [
    {
     "name": "stdout",
     "output_type": "stream",
     "text": [
      "0.9395213784850837\n"
     ]
    }
   ],
   "source": [
    "# load the model from disk\n",
    "loaded_model = pickle.load(open(filename, 'rb'))\n",
    "result = loaded_model.score(X_test.to_numpy(), Y_test.to_numpy())\n",
    "print(result)"
   ]
  },
  {
   "cell_type": "code",
   "execution_count": 293,
   "metadata": {},
   "outputs": [],
   "source": [
    "model_enc_prices = pickle.load(open(\"model_enc_prices\", 'rb'))"
   ]
  },
  {
   "cell_type": "code",
   "execution_count": 294,
   "metadata": {},
   "outputs": [],
   "source": [
    "mean_prices = pickle.load(open(\"mean_prices\", 'rb'))"
   ]
  },
  {
   "cell_type": "code",
   "execution_count": 423,
   "metadata": {},
   "outputs": [],
   "source": [
    "median_active_days = pickle.load(open(\"median_active_days\", 'rb'))"
   ]
  },
  {
   "cell_type": "code",
   "execution_count": 295,
   "metadata": {},
   "outputs": [],
   "source": [
    "columns = list(X_test)"
   ]
  },
  {
   "cell_type": "code",
   "execution_count": 296,
   "metadata": {},
   "outputs": [],
   "source": [
    "filename = 'columns.sav'\n",
    "pickle.dump(columns, open(filename, 'wb'))"
   ]
  },
  {
   "cell_type": "code",
   "execution_count": 297,
   "metadata": {},
   "outputs": [
    {
     "data": {
      "text/plain": [
       "['model_iphone_11',\n",
       " 'model_iphone_11_pro',\n",
       " 'model_iphone_11_pro_max',\n",
       " 'model_iphone_5',\n",
       " 'model_iphone_5c',\n",
       " 'model_iphone_5s',\n",
       " 'model_iphone_6',\n",
       " 'model_iphone_6_plus',\n",
       " 'model_iphone_6s',\n",
       " 'model_iphone_6s_plus',\n",
       " 'model_iphone_7',\n",
       " 'model_iphone_7_plus',\n",
       " 'model_iphone_8',\n",
       " 'model_iphone_8_plus',\n",
       " 'model_iphone_se',\n",
       " 'model_iphone_se_2',\n",
       " 'model_iphone_x',\n",
       " 'model_iphone_xr',\n",
       " 'model_iphone_xs',\n",
       " 'model_iphone_xs_max',\n",
       " 'color_blau',\n",
       " 'color_gelb',\n",
       " 'color_gold',\n",
       " 'color_grau',\n",
       " 'color_grun',\n",
       " 'color_lila',\n",
       " 'color_orange',\n",
       " 'color_other',\n",
       " 'color_rosa',\n",
       " 'color_rosagold',\n",
       " 'color_rot',\n",
       " 'color_schwarz',\n",
       " 'color_silber',\n",
       " 'color_spacegrau',\n",
       " 'color_weiss',\n",
       " 'memory_128GB',\n",
       " 'memory_16GB',\n",
       " 'memory_256GB',\n",
       " 'memory_32GB',\n",
       " 'memory_512GB',\n",
       " 'memory_64GB',\n",
       " 'no_feedback_yet',\n",
       " 'very_good_condition',\n",
       " 'very_bad_condition',\n",
       " 'shipping_cost',\n",
       " 'number_of_reviews',\n",
       " 'selers_feedback',\n",
       " 'listing_was_active_before_closure',\n",
       " 'return_policy_buyer_pays',\n",
       " 'return_policy_no_return',\n",
       " 'mean_price']"
      ]
     },
     "execution_count": 297,
     "metadata": {},
     "output_type": "execute_result"
    }
   ],
   "source": [
    "columns"
   ]
  },
  {
   "cell_type": "code",
   "execution_count": 298,
   "metadata": {},
   "outputs": [],
   "source": [
    "x = X_train.iloc[0].copy()"
   ]
  },
  {
   "cell_type": "code",
   "execution_count": 299,
   "metadata": {},
   "outputs": [],
   "source": [
    "data_for_model = np.zeros(x.shape[0])"
   ]
  },
  {
   "cell_type": "code",
   "execution_count": 332,
   "metadata": {},
   "outputs": [],
   "source": [
    "res = {'model': 'model_iphone_7', 'color': 'color_schwarz', 'memory': '128', 'return_policy': 'return_policy_no_return',\n",
    "       'no_feedback_yet': False, 'selers_feedback': '100', 'price': 2000, 'shipping_cost': '4.99',\n",
    "       'number_of_reviews': '537', 'condition': 0}"
   ]
  },
  {
   "cell_type": "markdown",
   "metadata": {},
   "source": [
    "\"condition\" in response means: 0  avarage, -1 very bad, 1 very good"
   ]
  },
  {
   "cell_type": "code",
   "execution_count": 319,
   "metadata": {},
   "outputs": [],
   "source": [
    "def set_mean_price(row):\n",
    "    price = mean_prices.loc[(mean_prices.model == row[\"model\"]) & (mean_prices.memory  == \"memory_{}GB\".format(row[\"memory\"])) \n",
    "                            & (mean_prices.color == row[\"color\"])].total_price\n",
    "    if (price.shape[0] == 0):\n",
    "        price = mean_prices.loc[(mean_prices.model == row[\"model\"]) & (mean_prices.memory  == \"memory_{}GB\".format(row[\"memory\"]))].total_price\n",
    "    if (price.shape[0] == 0):\n",
    "        price = mean_prices.loc[mean_prices.model == row[\"model\"]].total_price\n",
    "\n",
    "    return price.iloc[0]"
   ]
  },
  {
   "cell_type": "code",
   "execution_count": 320,
   "metadata": {},
   "outputs": [],
   "source": [
    "def set_return_policy(res):\n",
    "    #it's a workaround. Currently for all types of return we have \"return_policy_buyer_pays\" in data (Because of teh bug). \n",
    "    if (res[\"return_policy\"] != \"return_policy_no_return\"):\n",
    "        res[\"return_policy\"] = \"return_policy_buyer_pays\""
   ]
  },
  {
   "cell_type": "code",
   "execution_count": 321,
   "metadata": {},
   "outputs": [],
   "source": [
    "def set_feedback(res):\n",
    "    if (res[\"no_feedback_yet\"]):\n",
    "        res[\"no_feedback_yet\"] = 1\n",
    "        res[\"selers_feedback\"] = 100\n",
    "        res[\"number_of_reviews\"] = 0 #todo. actually it's also a number of very old reviews. Check may be it's beter to put and avareage of oldreviews there.\n",
    "    else:\n",
    "        res[\"no_feedback_yet\"] = 0"
   ]
  },
  {
   "cell_type": "code",
   "execution_count": 330,
   "metadata": {},
   "outputs": [],
   "source": [
    "def prepare_request(res, columns = columns):\n",
    "    all_colors = [x for x in columns if 'color_' in x]\n",
    "    if not(res[\"color\"] in all_colors):\n",
    "        res[\"color\"] = \"color_other\"\n",
    "    set_return_policy(res)\n",
    "    set_feedback(res)\n",
    "    data_for_model = np.zeros(len(columns))\n",
    "    categorical = [\"color\", \"return_policy\", \"model\"]\n",
    "    for cat in categorical:\n",
    "        print(cat)\n",
    "        print(res[cat])\n",
    "        data_for_model[columns.index(res[cat])] = 1\n",
    "    data_for_model[columns.index(\"memory_{}GB\".format(res[\"memory\"]))] = 1\n",
    "    numerical = [\"no_feedback_yet\", \"selers_feedback\", \"shipping_cost\", \"number_of_reviews\"]\n",
    "    for num in numerical:\n",
    "        print(num)\n",
    "        data_for_model[columns.index(num)] = res[num]\n",
    "    data_for_model[columns.index(\"mean_price\")] = set_mean_price(res)\n",
    "    if res[\"condition\"] == 1:\n",
    "      data_for_model[columns.index(\"very_good_condition\")] = 1\n",
    "    elif res[\"condition\"] == -1:\n",
    "      data_for_model[columns.index(\"very_bad_condition\")] = 1\n",
    "    return data_for_model"
   ]
  },
  {
   "cell_type": "code",
   "execution_count": 483,
   "metadata": {},
   "outputs": [],
   "source": [
    "def get_number_of_expected_days(row):\n",
    "    selected = median_active_days.loc[(median_active_days.model == row[\"model\"]) & (median_active_days.memory  == \"memory_{}GB\".format(row[\"memory\"])) \n",
    "                            & (median_active_days.color == row[\"color\"])]\n",
    "    days = selected[\"median\"]\n",
    "    \n",
    "    if ((days.shape[0] == 0) | (selected[\"count\"].iloc[0] < 10)): #if there are less than 10 examples, it could misleading\n",
    "        selected = median_active_days.loc[(median_active_days.model == row[\"model\"]) & (median_active_days.memory  == \"memory_{}GB\".format(row[\"memory\"]))]\n",
    "        days = selected[\"median\"]\n",
    "    if ((days.shape[0] == 0) | (selected[\"count\"].iloc[0] < 10)):\n",
    "        days = median_active_days.loc[median_active_days.model == row[\"model\"]][\"median\"]\n",
    "    \n",
    "    days = int(round(days.iloc[0], 0))\n",
    "    \n",
    "    #never take the day 7. Some people choose 'decrease pricie on the day 7', as the result, data is corrpted at this day\n",
    "\n",
    "    return 6 if days == 7 else days\n",
    "    "
   ]
  },
  {
   "cell_type": "code",
   "execution_count": 465,
   "metadata": {},
   "outputs": [
    {
     "data": {
      "text/html": [
       "<div>\n",
       "<style scoped>\n",
       "    .dataframe tbody tr th:only-of-type {\n",
       "        vertical-align: middle;\n",
       "    }\n",
       "\n",
       "    .dataframe tbody tr th {\n",
       "        vertical-align: top;\n",
       "    }\n",
       "\n",
       "    .dataframe thead th {\n",
       "        text-align: right;\n",
       "    }\n",
       "</style>\n",
       "<table border=\"1\" class=\"dataframe\">\n",
       "  <thead>\n",
       "    <tr style=\"text-align: right;\">\n",
       "      <th></th>\n",
       "      <th>model</th>\n",
       "      <th>memory</th>\n",
       "      <th>color</th>\n",
       "      <th>median</th>\n",
       "      <th>count</th>\n",
       "    </tr>\n",
       "  </thead>\n",
       "  <tbody>\n",
       "    <tr>\n",
       "      <th>156</th>\n",
       "      <td>model_iphone_7</td>\n",
       "      <td>memory_128GB</td>\n",
       "      <td>color_gold</td>\n",
       "      <td>2.0</td>\n",
       "      <td>20</td>\n",
       "    </tr>\n",
       "    <tr>\n",
       "      <th>157</th>\n",
       "      <td>model_iphone_7</td>\n",
       "      <td>memory_128GB</td>\n",
       "      <td>color_other</td>\n",
       "      <td>6.5</td>\n",
       "      <td>4</td>\n",
       "    </tr>\n",
       "    <tr>\n",
       "      <th>158</th>\n",
       "      <td>model_iphone_7</td>\n",
       "      <td>memory_128GB</td>\n",
       "      <td>color_rosa</td>\n",
       "      <td>5.5</td>\n",
       "      <td>26</td>\n",
       "    </tr>\n",
       "    <tr>\n",
       "      <th>159</th>\n",
       "      <td>model_iphone_7</td>\n",
       "      <td>memory_128GB</td>\n",
       "      <td>color_rosagold</td>\n",
       "      <td>12.0</td>\n",
       "      <td>2</td>\n",
       "    </tr>\n",
       "    <tr>\n",
       "      <th>160</th>\n",
       "      <td>model_iphone_7</td>\n",
       "      <td>memory_128GB</td>\n",
       "      <td>color_rot</td>\n",
       "      <td>2.5</td>\n",
       "      <td>10</td>\n",
       "    </tr>\n",
       "    <tr>\n",
       "      <th>161</th>\n",
       "      <td>model_iphone_7</td>\n",
       "      <td>memory_128GB</td>\n",
       "      <td>color_schwarz</td>\n",
       "      <td>5.0</td>\n",
       "      <td>156</td>\n",
       "    </tr>\n",
       "    <tr>\n",
       "      <th>162</th>\n",
       "      <td>model_iphone_7</td>\n",
       "      <td>memory_128GB</td>\n",
       "      <td>color_silber</td>\n",
       "      <td>4.0</td>\n",
       "      <td>21</td>\n",
       "    </tr>\n",
       "    <tr>\n",
       "      <th>163</th>\n",
       "      <td>model_iphone_7</td>\n",
       "      <td>memory_128GB</td>\n",
       "      <td>color_weiß</td>\n",
       "      <td>1.0</td>\n",
       "      <td>1</td>\n",
       "    </tr>\n",
       "    <tr>\n",
       "      <th>164</th>\n",
       "      <td>model_iphone_7</td>\n",
       "      <td>memory_256GB</td>\n",
       "      <td>color_gold</td>\n",
       "      <td>2.0</td>\n",
       "      <td>1</td>\n",
       "    </tr>\n",
       "    <tr>\n",
       "      <th>165</th>\n",
       "      <td>model_iphone_7</td>\n",
       "      <td>memory_256GB</td>\n",
       "      <td>color_rosa</td>\n",
       "      <td>7.0</td>\n",
       "      <td>5</td>\n",
       "    </tr>\n",
       "    <tr>\n",
       "      <th>166</th>\n",
       "      <td>model_iphone_7</td>\n",
       "      <td>memory_256GB</td>\n",
       "      <td>color_rot</td>\n",
       "      <td>0.0</td>\n",
       "      <td>1</td>\n",
       "    </tr>\n",
       "    <tr>\n",
       "      <th>167</th>\n",
       "      <td>model_iphone_7</td>\n",
       "      <td>memory_256GB</td>\n",
       "      <td>color_schwarz</td>\n",
       "      <td>7.0</td>\n",
       "      <td>13</td>\n",
       "    </tr>\n",
       "    <tr>\n",
       "      <th>168</th>\n",
       "      <td>model_iphone_7</td>\n",
       "      <td>memory_256GB</td>\n",
       "      <td>color_silber</td>\n",
       "      <td>3.0</td>\n",
       "      <td>3</td>\n",
       "    </tr>\n",
       "    <tr>\n",
       "      <th>169</th>\n",
       "      <td>model_iphone_7</td>\n",
       "      <td>memory_32GB</td>\n",
       "      <td>color_gold</td>\n",
       "      <td>4.0</td>\n",
       "      <td>21</td>\n",
       "    </tr>\n",
       "    <tr>\n",
       "      <th>170</th>\n",
       "      <td>model_iphone_7</td>\n",
       "      <td>memory_32GB</td>\n",
       "      <td>color_grau</td>\n",
       "      <td>0.0</td>\n",
       "      <td>1</td>\n",
       "    </tr>\n",
       "    <tr>\n",
       "      <th>171</th>\n",
       "      <td>model_iphone_7</td>\n",
       "      <td>memory_32GB</td>\n",
       "      <td>color_other</td>\n",
       "      <td>10.0</td>\n",
       "      <td>1</td>\n",
       "    </tr>\n",
       "    <tr>\n",
       "      <th>172</th>\n",
       "      <td>model_iphone_7</td>\n",
       "      <td>memory_32GB</td>\n",
       "      <td>color_rosa</td>\n",
       "      <td>7.0</td>\n",
       "      <td>48</td>\n",
       "    </tr>\n",
       "    <tr>\n",
       "      <th>173</th>\n",
       "      <td>model_iphone_7</td>\n",
       "      <td>memory_32GB</td>\n",
       "      <td>color_rosagold</td>\n",
       "      <td>0.0</td>\n",
       "      <td>1</td>\n",
       "    </tr>\n",
       "    <tr>\n",
       "      <th>174</th>\n",
       "      <td>model_iphone_7</td>\n",
       "      <td>memory_32GB</td>\n",
       "      <td>color_rot</td>\n",
       "      <td>7.0</td>\n",
       "      <td>1</td>\n",
       "    </tr>\n",
       "    <tr>\n",
       "      <th>175</th>\n",
       "      <td>model_iphone_7</td>\n",
       "      <td>memory_32GB</td>\n",
       "      <td>color_schwarz</td>\n",
       "      <td>4.0</td>\n",
       "      <td>201</td>\n",
       "    </tr>\n",
       "    <tr>\n",
       "      <th>176</th>\n",
       "      <td>model_iphone_7</td>\n",
       "      <td>memory_32GB</td>\n",
       "      <td>color_silber</td>\n",
       "      <td>4.5</td>\n",
       "      <td>58</td>\n",
       "    </tr>\n",
       "    <tr>\n",
       "      <th>177</th>\n",
       "      <td>model_iphone_7</td>\n",
       "      <td>memory_32GB</td>\n",
       "      <td>color_spacegrau</td>\n",
       "      <td>1.0</td>\n",
       "      <td>1</td>\n",
       "    </tr>\n",
       "    <tr>\n",
       "      <th>178</th>\n",
       "      <td>model_iphone_7</td>\n",
       "      <td>memory_32GB</td>\n",
       "      <td>color_weiß</td>\n",
       "      <td>10.0</td>\n",
       "      <td>4</td>\n",
       "    </tr>\n",
       "    <tr>\n",
       "      <th>179</th>\n",
       "      <td>model_iphone_7</td>\n",
       "      <td>memory_64GB</td>\n",
       "      <td>color_schwarz</td>\n",
       "      <td>5.0</td>\n",
       "      <td>1</td>\n",
       "    </tr>\n",
       "  </tbody>\n",
       "</table>\n",
       "</div>"
      ],
      "text/plain": [
       "              model        memory            color  median  count\n",
       "156  model_iphone_7  memory_128GB       color_gold     2.0     20\n",
       "157  model_iphone_7  memory_128GB      color_other     6.5      4\n",
       "158  model_iphone_7  memory_128GB       color_rosa     5.5     26\n",
       "159  model_iphone_7  memory_128GB   color_rosagold    12.0      2\n",
       "160  model_iphone_7  memory_128GB        color_rot     2.5     10\n",
       "161  model_iphone_7  memory_128GB    color_schwarz     5.0    156\n",
       "162  model_iphone_7  memory_128GB     color_silber     4.0     21\n",
       "163  model_iphone_7  memory_128GB       color_weiß     1.0      1\n",
       "164  model_iphone_7  memory_256GB       color_gold     2.0      1\n",
       "165  model_iphone_7  memory_256GB       color_rosa     7.0      5\n",
       "166  model_iphone_7  memory_256GB        color_rot     0.0      1\n",
       "167  model_iphone_7  memory_256GB    color_schwarz     7.0     13\n",
       "168  model_iphone_7  memory_256GB     color_silber     3.0      3\n",
       "169  model_iphone_7   memory_32GB       color_gold     4.0     21\n",
       "170  model_iphone_7   memory_32GB       color_grau     0.0      1\n",
       "171  model_iphone_7   memory_32GB      color_other    10.0      1\n",
       "172  model_iphone_7   memory_32GB       color_rosa     7.0     48\n",
       "173  model_iphone_7   memory_32GB   color_rosagold     0.0      1\n",
       "174  model_iphone_7   memory_32GB        color_rot     7.0      1\n",
       "175  model_iphone_7   memory_32GB    color_schwarz     4.0    201\n",
       "176  model_iphone_7   memory_32GB     color_silber     4.5     58\n",
       "177  model_iphone_7   memory_32GB  color_spacegrau     1.0      1\n",
       "178  model_iphone_7   memory_32GB       color_weiß    10.0      4\n",
       "179  model_iphone_7   memory_64GB    color_schwarz     5.0      1"
      ]
     },
     "execution_count": 465,
     "metadata": {},
     "output_type": "execute_result"
    }
   ],
   "source": [
    "median_active_days.loc[median_active_days.model == \"model_iphone_7\"]"
   ]
  },
  {
   "cell_type": "code",
   "execution_count": 333,
   "metadata": {},
   "outputs": [
    {
     "name": "stdout",
     "output_type": "stream",
     "text": [
      "color\n",
      "color_schwarz\n",
      "return_policy\n",
      "return_policy_no_return\n",
      "model\n",
      "model_iphone_7\n",
      "no_feedback_yet\n",
      "selers_feedback\n",
      "shipping_cost\n",
      "number_of_reviews\n"
     ]
    }
   ],
   "source": [
    "prepared_data = prepare_request(res, columns)"
   ]
  },
  {
   "cell_type": "markdown",
   "metadata": {},
   "source": [
    "#### TEST"
   ]
  },
  {
   "cell_type": "code",
   "execution_count": 490,
   "metadata": {},
   "outputs": [],
   "source": [
    "prepared_data[columns.index(\"listing_was_active_before_closure\")] = get_number_of_expected_days(res)"
   ]
  },
  {
   "cell_type": "code",
   "execution_count": 491,
   "metadata": {},
   "outputs": [
    {
     "name": "stdout",
     "output_type": "stream",
     "text": [
      "model_iphone_11\n",
      "0.0\n",
      "model_iphone_11_pro\n",
      "0.0\n",
      "model_iphone_11_pro_max\n",
      "0.0\n",
      "model_iphone_5\n",
      "0.0\n",
      "model_iphone_5c\n",
      "0.0\n",
      "model_iphone_5s\n",
      "0.0\n",
      "model_iphone_6\n",
      "0.0\n",
      "model_iphone_6_plus\n",
      "0.0\n",
      "model_iphone_6s\n",
      "0.0\n",
      "model_iphone_6s_plus\n",
      "0.0\n",
      "model_iphone_7\n",
      "1.0\n",
      "model_iphone_7_plus\n",
      "0.0\n",
      "model_iphone_8\n",
      "0.0\n",
      "model_iphone_8_plus\n",
      "0.0\n",
      "model_iphone_se\n",
      "0.0\n",
      "model_iphone_se_2\n",
      "0.0\n",
      "model_iphone_x\n",
      "0.0\n",
      "model_iphone_xr\n",
      "0.0\n",
      "model_iphone_xs\n",
      "0.0\n",
      "model_iphone_xs_max\n",
      "0.0\n",
      "color_blau\n",
      "0.0\n",
      "color_gelb\n",
      "0.0\n",
      "color_gold\n",
      "0.0\n",
      "color_grau\n",
      "0.0\n",
      "color_grun\n",
      "0.0\n",
      "color_lila\n",
      "0.0\n",
      "color_orange\n",
      "0.0\n",
      "color_other\n",
      "0.0\n",
      "color_rosa\n",
      "0.0\n",
      "color_rosagold\n",
      "0.0\n",
      "color_rot\n",
      "0.0\n",
      "color_schwarz\n",
      "1.0\n",
      "color_silber\n",
      "0.0\n",
      "color_spacegrau\n",
      "0.0\n",
      "color_weiss\n",
      "0.0\n",
      "memory_128GB\n",
      "1.0\n",
      "memory_16GB\n",
      "0.0\n",
      "memory_256GB\n",
      "0.0\n",
      "memory_32GB\n",
      "0.0\n",
      "memory_512GB\n",
      "0.0\n",
      "memory_64GB\n",
      "0.0\n",
      "no_feedback_yet\n",
      "0.0\n",
      "very_good_condition\n",
      "0.0\n",
      "very_bad_condition\n",
      "0.0\n",
      "shipping_cost\n",
      "4.99\n",
      "number_of_reviews\n",
      "537.0\n",
      "selers_feedback\n",
      "100.0\n",
      "listing_was_active_before_closure\n",
      "5.0\n",
      "return_policy_buyer_pays\n",
      "0.0\n",
      "return_policy_no_return\n",
      "1.0\n",
      "mean_price\n",
      "123.73866242038221\n"
     ]
    }
   ],
   "source": [
    "for c in range(len(columns)):\n",
    "    print(columns[c])\n",
    "    print(prepared_data[c])"
   ]
  },
  {
   "cell_type": "code",
   "execution_count": 495,
   "metadata": {},
   "outputs": [
    {
     "data": {
      "text/plain": [
       "119"
      ]
     },
     "execution_count": 495,
     "metadata": {},
     "output_type": "execute_result"
    }
   ],
   "source": [
    "round(model.predict(np.array([prepared_data]))[0])"
   ]
  },
  {
   "cell_type": "code",
   "execution_count": null,
   "metadata": {},
   "outputs": [],
   "source": []
  },
  {
   "cell_type": "code",
   "execution_count": null,
   "metadata": {},
   "outputs": [],
   "source": []
  }
 ],
 "metadata": {
  "kernelspec": {
   "display_name": "Python 3",
   "language": "python",
   "name": "python3"
  },
  "language_info": {
   "codemirror_mode": {
    "name": "ipython",
    "version": 3
   },
   "file_extension": ".py",
   "mimetype": "text/x-python",
   "name": "python",
   "nbconvert_exporter": "python",
   "pygments_lexer": "ipython3",
   "version": "3.6.8"
  }
 },
 "nbformat": 4,
 "nbformat_minor": 2
}
